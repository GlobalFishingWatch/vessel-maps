{
 "cells": [
  {
   "cell_type": "code",
   "execution_count": 109,
   "metadata": {
    "collapsed": false
   },
   "outputs": [],
   "source": [
    "import numpy as np\n",
    "import matplotlib.pyplot as plt\n",
    "import matplotlib.pyplot as plt\n",
    "from mpl_toolkits.basemap import Basemap\n",
    "import matplotlib\n",
    "from matplotlib import colors,colorbar\n",
    "import matplotlib\n",
    "%matplotlib inline\n",
    "import csv \n",
    "import math\n",
    "import bq\n",
    "import time"
   ]
  },
  {
   "cell_type": "code",
   "execution_count": 128,
   "metadata": {
    "collapsed": true
   },
   "outputs": [],
   "source": [
    "cellsize = .1\n",
    "one_over_cellsize = 10\n",
    "if cellsize < 1:\n",
    "    num_lons = 360*one_over_cellsize\n",
    "    num_lats = 180 *one_over_cellsize\n",
    "else:\n",
    "    num_lons = 360/cellsize\n",
    "    num_lats = 180/cellsize"
   ]
  },
  {
   "cell_type": "code",
   "execution_count": 118,
   "metadata": {
    "collapsed": true
   },
   "outputs": [],
   "source": [
    "def get_area(lat):\n",
    "    lat_degree = 69 # miles\n",
    "    # Convert latitude and longitude to \n",
    "    # spherical coordinates in radians.\n",
    "    degrees_to_radians = math.pi/180.0        \n",
    "    # phi = 90 - latitude\n",
    "    phi = (lat+cellsize/2.)*degrees_to_radians #plus half a cell size to get the middle\n",
    "    lon_degree = math.cos(phi)*lat_degree \n",
    "    # return 69*69*2.6\n",
    "    return  lat_degree*lon_degree* 2.58999 # miles to square km"
   ]
  },
  {
   "cell_type": "code",
   "execution_count": 112,
   "metadata": {
    "collapsed": true
   },
   "outputs": [],
   "source": [
    "client = bq.Client.Get()\n",
    "def Query(q):\n",
    "    t0 = time.time()\n",
    "    answer = client.ReadTableRows(client.Query(q)['configuration']['query']['destinationTable'])\n",
    "    print 'Query time: ' + str(time.time() - t0) + ' seconds.'\n",
    "    return answer"
   ]
  },
  {
   "cell_type": "code",
   "execution_count": 115,
   "metadata": {
    "collapsed": false
   },
   "outputs": [
    {
     "name": "stdout",
     "output_type": "stream",
     "text": [
      "Waiting on bqjob_r405fa20441fbb523_0000015314aab430_12 ... (34s) Current status: DONE   \n",
      "Query time: 100.596560955 seconds.\n",
      "Waiting on bqjob_r6a4bd9e467babf4d_0000015314ac3d36_13 ... (34s) Current status: DONE   \n",
      "Query time: 101.024713993 seconds.\n",
      "Waiting on bqjob_r5117ad6fd0bf7bb7_0000015314adc7e8_14 ... (48s) Current status: DONE   \n",
      "Query time: 108.035313845 seconds.\n",
      "Waiting on bqjob_r542b6a0e82a712b1_0000015314af6dff_15 ... (34s) Current status: DONE   \n",
      "Query time: 98.5088191032 seconds.\n"
     ]
    }
   ],
   "source": [
    "# query to get the density of vessels\n",
    "vessel_query = []\n",
    "\n",
    "for i in range(4):\n",
    "    q = '''\n",
    "    SELECT \n",
    "    integer(lat*'''+str(one_over_cellsize)+''') lat_bin,\n",
    "    integer(lon*'''+str(one_over_cellsize)+''') lon_bin,\n",
    "    sum(1/positions) vessels\n",
    "    FROM [scratch_david_gapanalysis.orbcomm_2015_noduplicates_st_stats]\n",
    "    where  \n",
    "      max_lat - min_lat <5\n",
    "      AND (max_lon - min_lon < 10 // This lon filter cuts out 2.7 percent of the data \n",
    "        OR first_lon > 170\n",
    "        OR first_lon < -170)\n",
    "      and lat > -90 and lat < 90 and lat != 0 \n",
    "      //divide into 4 parts because a single query is too big for this api\n",
    "      and lon > '''+ str(i*90-180) + ''' and lon < '''+ str(i*90-90)+'''\n",
    "      AND mmsi IN (select mmsi from\n",
    "    [scratch_david_gapanalysis.good_mmsi_2015])\n",
    "    //and tagblock_type = 'terrestrial'\n",
    "    group by lat_bin, lon_bin\n",
    "    '''\n",
    "    vessel_query += Query(q)"
   ]
  },
  {
   "cell_type": "code",
   "execution_count": null,
   "metadata": {
    "collapsed": false
   },
   "outputs": [],
   "source": [
    "vessel_days = np.zeros(shape=(num_lats,num_lons))\n",
    "\n",
    "for row in vessel_query:\n",
    "    lat = int(row[0])\n",
    "    lon = int(row[1])\n",
    "    if lat<90*one_over_cellsize and lat>-90*one_over_cellsize and lon>-180*one_over_cellsize and lon<180*one_over_cellsize:\n",
    "        lat_index = lat+90*one_over_cellsize\n",
    "        lon_index = lon+180*one_over_cellsize\n",
    "        days = float(row[2])\n",
    "        area = get_area(lat*float(cellsize)) # approximate area of 1 by 1 degree at a given lat\n",
    "        vessel_days[lat_index][lon_index] = days / (365.* area*cellsize*cellsize)*100 #vessels per day per 100 square km\n",
    "\n",
    "        \n",
    "        "
   ]
  },
  {
   "cell_type": "code",
   "execution_count": null,
   "metadata": {
    "collapsed": false,
    "scrolled": false
   },
   "outputs": [],
   "source": [
    "firstlat = 90\n",
    "lastlat = -90\n",
    "firstlon = -180\n",
    "lastlon = 180\n",
    "scale = cellsize\n",
    "\n",
    "numlats = int((firstlat-lastlat)/scale+.5)\n",
    "numlons = int((lastlon-firstlon)/scale+.5)\n",
    "    \n",
    "lat_boxes = np.linspace(lastlat,firstlat,num=numlats,endpoint=False)\n",
    "lon_boxes = np.linspace(firstlon,lastlon,num=numlons,endpoint=False)\n",
    "\n",
    "fig = plt.figure()\n",
    "m = Basemap(llcrnrlat=lastlat, urcrnrlat=firstlat,\n",
    "          llcrnrlon=firstlon, urcrnrlon=lastlon, lat_ts=0, projection='mill',resolution=\"h\")\n",
    "\n",
    "m.drawmapboundary()\n",
    "# m.drawcoastlines(linewidth=.2)\n",
    "m.fillcontinents('#cccccc',lake_color='#cccccc')#, lake_color, ax, zorder, alpha)\n",
    "\n",
    "x = np.linspace(-180, 180, 360*one_over_cellsize)\n",
    "y = np.linspace(lastlat, firstlat, (firstlat-lastlat)*one_over_cellsize)\n",
    "x, y = np.meshgrid(x, y)\n",
    "converted_x, converted_y = m(x, y)\n",
    "from matplotlib import colors,colorbar\n",
    "\n",
    "\n",
    "m3 = 100**.33333+.01\n",
    "\n",
    "norm = colors.LogNorm(vmin=.00001, vmax=m3**3)\n",
    "# norm = colors.Normalize(vmin=0, vmax=1000)\n",
    "\n",
    "m.pcolormesh(converted_x, converted_y, vessel_days, norm=norm, vmin=.00001, vmax=m3**3)\n",
    "\n",
    "t = \"Density of Vessels per Day, 2015\"\n",
    "plt.title(t)\n",
    "\n",
    "ax = fig.add_axes([0.15, 0.1, 0.4, 0.02]) #x coordinate , \n",
    "norm = colors.LogNorm(vmin=1, vmax=1000)\n",
    "# norm = colors.Normalize(vmin=0, vmax=1000)\n",
    "lvls = np.logspace(0,3,7)\n",
    "cb = colorbar.ColorbarBase(ax,norm = norm, orientation='horizontal', ticks=lvls)\n",
    "\n",
    "cb.ax.set_xticklabels([\"0\" ,round(m3**.5,1), m3, round(m3**1.5,1), m3*m3,round(m3**2.5,1), str(round(m3**3,1))+\"+\"], fontsize=10)\n",
    "cb.set_label('Vessels per day per 1000 km^2',labelpad=-40, y=0.45)\n",
    "plt.savefig(\"vessel_density_2015.png\",bbox_inches='tight',dpi=300,transparent=True,pad_inches=0)\n",
    "plt.rcParams[\"figure.figsize\"] = [12,8]\n",
    "plt.show()\n"
   ]
  },
  {
   "cell_type": "code",
   "execution_count": 108,
   "metadata": {
    "collapsed": true
   },
   "outputs": [],
   "source": [
    "vessel_days.dump((open('../../data/density/density2015.npy', 'wb')))"
   ]
  },
  {
   "cell_type": "code",
   "execution_count": 105,
   "metadata": {
    "collapsed": false
   },
   "outputs": [
    {
     "data": {
      "text/plain": [
       "4192441"
      ]
     },
     "execution_count": 105,
     "metadata": {},
     "output_type": "execute_result"
    }
   ],
   "source": [
    "len(vessel_query)"
   ]
  },
  {
   "cell_type": "code",
   "execution_count": 102,
   "metadata": {
    "collapsed": false
   },
   "outputs": [
    {
     "data": {
      "text/plain": [
       "list"
      ]
     },
     "execution_count": 102,
     "metadata": {},
     "output_type": "execute_result"
    }
   ],
   "source": [
    "type(vessel_query)"
   ]
  },
  {
   "cell_type": "code",
   "execution_count": null,
   "metadata": {
    "collapsed": true
   },
   "outputs": [],
   "source": []
  }
 ],
 "metadata": {
  "kernelspec": {
   "display_name": "Python 2",
   "language": "python",
   "name": "python2"
  },
  "language_info": {
   "codemirror_mode": {
    "name": "ipython",
    "version": 2
   },
   "file_extension": ".py",
   "mimetype": "text/x-python",
   "name": "python",
   "nbconvert_exporter": "python",
   "pygments_lexer": "ipython2",
   "version": "2.7.3"
  }
 },
 "nbformat": 4,
 "nbformat_minor": 0
}
