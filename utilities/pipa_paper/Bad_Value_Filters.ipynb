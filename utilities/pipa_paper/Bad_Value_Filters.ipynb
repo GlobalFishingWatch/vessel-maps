{
 "cells": [
  {
   "cell_type": "code",
   "execution_count": 1,
   "metadata": {
    "collapsed": true
   },
   "outputs": [],
   "source": [
    "import numpy as np\n",
    "import matplotlib.pyplot as plt\n",
    "import matplotlib.pyplot as plt\n",
    "from mpl_toolkits.basemap import Basemap\n",
    "import matplotlib\n",
    "from matplotlib import colors,colorbar\n",
    "import matplotlib\n",
    "%matplotlib inline\n",
    "import csv \n",
    "import math\n",
    "import bq\n",
    "import time"
   ]
  },
  {
   "cell_type": "code",
   "execution_count": 2,
   "metadata": {
    "collapsed": true
   },
   "outputs": [],
   "source": [
    "client = bq.Client.Get()\n",
    "def Query(q):\n",
    "    t0 = time.time()\n",
    "    answer = client.ReadTableRows(client.Query(q)['configuration']['query']['destinationTable'])\n",
    "    print 'Query time: ' + str(time.time() - t0) + ' seconds.'\n",
    "    return answer"
   ]
  },
  {
   "cell_type": "code",
   "execution_count": 3,
   "metadata": {
    "collapsed": false
   },
   "outputs": [
    {
     "name": "stdout",
     "output_type": "stream",
     "text": [
      "Waiting on bqjob_r3c7d7f7922512cbe_0000015314cbc332_1 ... (1s) Current status: DONE   \n",
      "Query time: 3.80331301689 seconds.\n"
     ]
    }
   ],
   "source": [
    "q = '''\n",
    "select speed, \n",
    "count(*) count \n",
    "from \n",
    "(SELECT integer(avg(speed)) speed, \n",
    "mmsi FROM [pipeline_normalize.20160113] where speed is not null group by mmsi) \n",
    "group by speed, order by speed asc\n",
    "'''\n",
    "vessel_query = Query(q)"
   ]
  },
  {
   "cell_type": "code",
   "execution_count": 22,
   "metadata": {
    "collapsed": false
   },
   "outputs": [
    {
     "data": {
      "image/png": "[encoded data removed]",
      "text/plain": [
       "<matplotlib.figure.Figure at 0x10d392810>"
      ]
     },
     "metadata": {},
     "output_type": "display_data"
    }
   ],
   "source": [
    "speeds,counts = [],[]\n",
    "\n",
    "for row in vessel_query:\n",
    "    if float(row[0]) < 50 and float(row[0])>0: # no boats go faster than 50 knots for sustained time on the ocean\n",
    "        speeds.append(float(row[0]))\n",
    "        counts.append(float(row[1]))\n",
    "        \n",
    "y_pos = np.arange(len(speeds))\n",
    "plt.bar(y_pos, counts, align='center', alpha=0.5)\n",
    "plt.xticks(y_pos, speeds)\n",
    "plt.ylabel('Number of Vessels')\n",
    "plt.title('Average Daily Speed in Knots')\n",
    "plt.show()\n"
   ]
  },
  {
   "cell_type": "code",
   "execution_count": 26,
   "metadata": {
    "collapsed": false
   },
   "outputs": [
    {
     "name": "stdout",
     "output_type": "stream",
     "text": [
      "1 0.132400872942\n",
      "2 0.246846923448\n",
      "3 0.353513023269\n",
      "4 0.449494090639\n",
      "5 0.530723011082\n",
      "6 0.601706204121\n",
      "7 0.664739392909\n",
      "8 0.719156534308\n",
      "9 0.761684097157\n",
      "10 0.801278235978\n",
      "11 0.843579060737\n",
      "12 0.884037638523\n",
      "13 0.912620808888\n",
      "14 0.930561460193\n",
      "15 0.942040075957\n",
      "16 0.950316016212\n",
      "17 0.956763880622\n",
      "18 0.961596236148\n",
      "19 0.965167361052\n",
      "20 0.966981265765\n",
      "21 0.968044100558\n",
      "22 0.968795170479\n",
      "23 0.969276988918\n",
      "24 0.969659609444\n",
      "25 0.971317631721\n",
      "26 0.971572712071\n",
      "27 0.971912819205\n",
      "28 0.972224584077\n",
      "29 0.972635546864\n",
      "30 0.972961482867\n",
      "31 0.973485814698\n",
      "32 0.974364424794\n",
      "33 0.974647847405\n",
      "34 0.975455601848\n",
      "35 0.975809880112\n",
      "36 0.97600827594\n",
      "37 0.976093302724\n",
      "38 0.976546778902\n",
      "39 0.976674319077\n",
      "40 0.976816030383\n",
      "41 0.976901057166\n",
      "42 0.97698608395\n",
      "43 0.977085281864\n",
      "44 0.977425388998\n",
      "45 0.977581271434\n",
      "46 0.977751325001\n",
      "47 0.977963891959\n",
      "48 0.978091432134\n",
      "49 0.978162287787\n",
      "50 0.978247314571\n",
      "51 0.979905336848\n",
      "52 0.980075390415\n",
      "53 0.980259615112\n",
      "54 0.980528866593\n",
      "55 0.981180738599\n",
      "56 0.981591701386\n",
      "57 0.982286086784\n",
      "58 0.982711220701\n",
      "59 0.983278065924\n",
      "60 0.983618173058\n",
      "61 0.983745713233\n",
      "62 0.983901595669\n",
      "63 0.98417084715\n",
      "64 0.984553467676\n",
      "65 0.98466683672\n",
      "66 0.984751863504\n",
      "67 0.984836890287\n",
      "68 0.984950259332\n",
      "69 0.985077799507\n",
      "70 0.985191168551\n",
      "71 0.985304537596\n",
      "72 0.985432077771\n",
      "73 0.985531275685\n",
      "74 0.985559617946\n",
      "75 0.985729671513\n",
      "76 0.986735821784\n",
      "77 0.98689170422\n",
      "78 0.987047586656\n",
      "79 0.98714678457\n",
      "80 0.98737352266\n",
      "81 0.987642774141\n",
      "82 0.988252132755\n",
      "83 0.988776464586\n",
      "84 0.98910240059\n",
      "85 0.989584219029\n",
      "86 0.989938497293\n",
      "87 0.99009437973\n",
      "88 0.990165235382\n",
      "89 0.99034946008\n",
      "90 0.990491171386\n",
      "91 0.99060454043\n",
      "92 0.990703738344\n",
      "93 0.990859620781\n",
      "94 0.990958818695\n",
      "95 0.990987160956\n",
      "96 0.992035824618\n",
      "97 0.992220049316\n",
      "98 0.992390102882\n",
      "99 0.992602669841\n",
      "100 0.992843579061\n",
      "101 0.992999461497\n",
      "102 0.999234758949\n",
      "103 0.99926310121\n",
      "106 0.999277272341\n",
      "107 0.999319785733\n",
      "108 0.999333956863\n",
      "112 0.999348127994\n",
      "118 0.999362299124\n",
      "121 0.999376470255\n",
      "122 0.999390641385\n",
      "125 0.999404812516\n",
      "126 0.999418983647\n",
      "128 0.999433154777\n",
      "133 0.999447325908\n",
      "137 0.999461497038\n",
      "138 0.999489839299\n",
      "145 0.99950401043\n",
      "146 0.999518181561\n",
      "151 0.999532352691\n",
      "160 0.999546523822\n",
      "166 0.999574866083\n",
      "170 0.999589037213\n",
      "172 0.999674063997\n",
      "173 0.999688235127\n",
      "193 0.999702406258\n",
      "218 0.999716577389\n",
      "233 0.999730748519\n",
      "269 0.99974491965\n",
      "289 0.99975909078\n",
      "343 0.999773261911\n",
      "443 0.999787433041\n",
      "447 0.999801604172\n",
      "550 0.999815775303\n",
      "606 0.999829946433\n",
      "616 0.999844117564\n",
      "830 0.999858288694\n",
      "898 0.999872459825\n",
      "951 0.999886630955\n",
      "990 0.999900802086\n",
      "1021 0.999914973217\n",
      "1023 1.0\n"
     ]
    }
   ],
   "source": [
    "speeds,counts = [],[]\n",
    "\n",
    "for row in vessel_query:\n",
    "    if float(row[0])>0: # no boats go faster than 50 knots for sustained time on the ocean\n",
    "        speeds.append(float(row[0]))\n",
    "        counts.append(float(row[1]))\n",
    "\n",
    "speeds = np.array(speeds)\n",
    "counts = np.array(counts)\n",
    "\n",
    "for i in range(len(speeds)):\n",
    "    print int(speeds[i]), counts[0:i+1].sum() /counts.sum()"
   ]
  },
  {
   "cell_type": "code",
   "execution_count": null,
   "metadata": {
    "collapsed": true
   },
   "outputs": [],
   "source": []
  }
 ],
 "metadata": {
  "kernelspec": {
   "display_name": "Python 2",
   "language": "python",
   "name": "python2"
  },
  "language_info": {
   "codemirror_mode": {
    "name": "ipython",
    "version": 2
   },
   "file_extension": ".py",
   "mimetype": "text/x-python",
   "name": "python",
   "nbconvert_exporter": "python",
   "pygments_lexer": "ipython2",
   "version": "2.7.3"
  }
 },
 "nbformat": 4,
 "nbformat_minor": 0
}
