{
 "cells": [
  {
   "cell_type": "code",
   "execution_count": 2,
   "metadata": {
    "collapsed": true
   },
   "outputs": [],
   "source": [
    "import numpy as np\n",
    "import csv \n",
    "import math\n",
    "import rasterio as rio\n",
    "import affine"
   ]
  },
  {
   "cell_type": "code",
   "execution_count": 4,
   "metadata": {
    "collapsed": false
   },
   "outputs": [],
   "source": [
    "profile = {\n",
    "    'crs': 'EPSG:4326',\n",
    "    'nodata': -9999,\n",
    "    'dtype': rio.float32,\n",
    "    'height': 1800,\n",
    "    'width': 3600,\n",
    "    'count': 1,\n",
    "    'driver':\"GTiff\",\n",
    "    'transform': affine.Affine(0.1, 0, -180, \n",
    "              0, -0.1, 90)}\n"
   ]
  },
  {
   "cell_type": "code",
   "execution_count": 5,
   "metadata": {
    "collapsed": false
   },
   "outputs": [],
   "source": [
    "vessel_days = np.load(\"../../data/density/density2015.npy\")\n",
    "\n",
    "out_tif = \"../../data/density/density_2015.tiff\"\n",
    "\n",
    "with rio.open(out_tif, 'w', **profile) as dst:\n",
    "    dst.write(np.flipud(vessel_days).astype(profile['dtype']), indexes=1)\n"
   ]
  },
  {
   "cell_type": "code",
   "execution_count": 7,
   "metadata": {
    "collapsed": false
   },
   "outputs": [],
   "source": [
    "vessel_days = np.load(\"../../data/density/density_fishing2015.npy\")\n",
    "\n",
    "out_tif = \"../../data/density/density_2015_fishing.tiff\"\n",
    "\n",
    "with rio.open(out_tif, 'w', **profile) as dst:\n",
    "    dst.write(np.flipud(vessel_days).astype(profile['dtype']), indexes=1)"
   ]
  },
  {
   "cell_type": "code",
   "execution_count": 8,
   "metadata": {
    "collapsed": true
   },
   "outputs": [],
   "source": [
    "vessel_days = np.load(\"../../data/density/density2015_1000pings.npy\")\n",
    "\n",
    "out_tif = \"../../data/density/density_2015_1000pings.tiff\"\n",
    "\n",
    "with rio.open(out_tif, 'w', **profile) as dst:\n",
    "    dst.write(np.flipud(vessel_days).astype(profile['dtype']), indexes=1)\n"
   ]
  },
  {
   "cell_type": "code",
   "execution_count": null,
   "metadata": {
    "collapsed": true
   },
   "outputs": [],
   "source": []
  }
 ],
 "metadata": {
  "kernelspec": {
   "display_name": "Python 2",
   "language": "python",
   "name": "python2"
  },
  "language_info": {
   "codemirror_mode": {
    "name": "ipython",
    "version": 2
   },
   "file_extension": ".py",
   "mimetype": "text/x-python",
   "name": "python",
   "nbconvert_exporter": "python",
   "pygments_lexer": "ipython2",
   "version": "2.7.3"
  }
 },
 "nbformat": 4,
 "nbformat_minor": 0
}
