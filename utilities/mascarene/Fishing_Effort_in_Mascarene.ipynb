{
 "cells": [
  {
   "cell_type": "markdown",
   "metadata": {},
   "source": [
    "# Fishing Effort in the Mascarene Plateau"
   ]
  },
  {
   "cell_type": "code",
   "execution_count": 3,
   "metadata": {
    "collapsed": false
   },
   "outputs": [],
   "source": [
    "\n",
    "import bq  \n",
    "import time\n",
    "import numpy as np\n",
    "import matplotlib.pyplot as plt\n",
    "import matplotlib.pyplot as plt\n",
    "from mpl_toolkits.basemap import Basemap\n",
    "import matplotlib\n",
    "from matplotlib import colors,colorbar\n",
    "import matplotlib\n",
    "%matplotlib inline\n",
    "import csv \n",
    "import math\n",
    "from math import radians, cos, sin, asin, sqrt\n",
    "from scipy import stats\n",
    "import matplotlib.dates as mdates\n",
    "\n",
    "client = bq.Client.Get()"
   ]
  },
  {
   "cell_type": "code",
   "execution_count": 4,
   "metadata": {
    "collapsed": true
   },
   "outputs": [],
   "source": [
    "# create a bounding box:\n",
    "max_lat = -5\n",
    "min_lat = -15\n",
    "max_lon = 65\n",
    "min_lon = 55"
   ]
  },
  {
   "cell_type": "code",
   "execution_count": 5,
   "metadata": {
    "collapsed": true
   },
   "outputs": [],
   "source": [
    "def Query(q):\n",
    "    t0 = time.time()\n",
    "    answer = client.ReadTableRows(client.Query(q)['configuration']['query']['destinationTable'])\n",
    "    print 'Query time: ' + str(time.time() - t0) + ' seconds.'\n",
    "    return answer"
   ]
  },
  {
   "cell_type": "code",
   "execution_count": 6,
   "metadata": {
    "collapsed": false
   },
   "outputs": [
    {
     "name": "stdout",
     "output_type": "stream",
     "text": [
      "Waiting on bqjob_r40791676e6648beb_000001533d2e6970_1 ... (0s) Current status: DONE   \n",
      "Query time: 2.70184087753 seconds.\n"
     ]
    }
   ],
   "source": [
    "q = '''\n",
    "select count(distinct mmsi) \n",
    "FROM\n",
    "  [tilesets.pipeline_2015_08_24_08_19_01]\n",
    "WHERE\n",
    "  latitude > '''+str(min_lat)+'''\n",
    "  AND latitude <'''+str(max_lat)+'''\n",
    "  AND longitude > '''+str(min_lon)+'''\n",
    "  AND longitude < '''+str(max_lon)+'''\n",
    "  AND weight >=.5'''\n",
    "\n",
    "number_of_mmsi = Query(q)"
   ]
  },
  {
   "cell_type": "code",
   "execution_count": 7,
   "metadata": {
    "collapsed": false
   },
   "outputs": [
    {
     "name": "stdout",
     "output_type": "stream",
     "text": [
      "Number of unique MMSI: 190\n"
     ]
    }
   ],
   "source": [
    "print \"Number of unique MMSI:\",int(number_of_mmsi[0][0])"
   ]
  },
  {
   "cell_type": "markdown",
   "metadata": {},
   "source": [
    "# 190 MMSI were fishing in this region from January 2014 to July 2015"
   ]
  },
  {
   "cell_type": "code",
   "execution_count": 10,
   "metadata": {
    "collapsed": false
   },
   "outputs": [
    {
     "name": "stdout",
     "output_type": "stream",
     "text": [
      "Waiting on bqjob_r223af54691adfe22_000001533d2f95ac_3 ... (4s) Current status: DONE   \n",
      "Query time: 6.90521597862 seconds.\n"
     ]
    }
   ],
   "source": [
    "q = '''\n",
    "select a.mmsi mmsi,\n",
    "a.number number,\n",
    "if(b.country is null, \"invalid mmsi\",b.country) country,\n",
    "b.continent continent\n",
    "from\n",
    "(select mmsi, \n",
    "integer(if(length(string(mmsi))= 9,LEFT(STRING(mmsi),3), '0')) code,\n",
    "count(*) number from\n",
    "(SELECT\n",
    "  mmsi,\n",
    "  date(timestamp) date,\n",
    "  first(latitude) lat,\n",
    "  first(longitude) lon\n",
    "FROM\n",
    "  [tilesets.pipeline_2015_08_24_08_19_01]\n",
    "WHERE\n",
    "  latitude > -15\n",
    "  AND latitude <-5\n",
    "  AND longitude > 55\n",
    "  AND longitude <65\n",
    "  AND weight >=.5\n",
    "group by mmsi, date) \n",
    "group by mmsi, code \n",
    ") \n",
    "a\n",
    "left join [scratch_roan.country_code] b\n",
    "on a.code = b.code \n",
    "order by number desc'''\n",
    "\n",
    "days_by_mmsi = Query(q)"
   ]
  },
  {
   "cell_type": "markdown",
   "metadata": {},
   "source": [
    "# The List of MMSI that were fishing are below"
   ]
  },
  {
   "cell_type": "code",
   "execution_count": 11,
   "metadata": {
    "collapsed": false
   },
   "outputs": [
    {
     "name": "stdout",
     "output_type": "stream",
     "text": [
      "mmsi: 416000000   fishing days: 257   country:  Taiwan\n",
      "mmsi: 416237800   fishing days: 115   country:  Taiwan\n",
      "mmsi: 416002566   fishing days: 105   country:  Taiwan\n",
      "mmsi: 416002655   fishing days: 97   country:  Taiwan\n",
      "mmsi: 416214600   fishing days: 96   country:  Taiwan\n",
      "mmsi: 416241800   fishing days: 96   country:  Taiwan\n",
      "mmsi: 416001838   fishing days: 96   country:  Taiwan\n",
      "mmsi: 416239800   fishing days: 91   country:  Taiwan\n",
      "mmsi: 525000000   fishing days: 79   country:  Indonesia\n",
      "mmsi: 416004367   fishing days: 77   country:  Taiwan\n",
      "mmsi: 416236600   fishing days: 74   country:  Taiwan\n",
      "mmsi: 416002039   fishing days: 70   country:  Taiwan\n",
      "mmsi: 416229900   fishing days: 69   country:  Taiwan\n",
      "mmsi: 416002767   fishing days: 69   country:  Taiwan\n",
      "mmsi: 416004187   fishing days: 66   country:  Taiwan\n",
      "mmsi: 416002508   fishing days: 65   country:  Taiwan\n",
      "mmsi: 416004773   fishing days: 59   country:  Taiwan\n",
      "mmsi: 533333001   fishing days: 55   country:  Malaysia\n",
      "mmsi: 416244700   fishing days: 55   country:  Taiwan\n",
      "mmsi: 416002061   fishing days: 54   country:  Taiwan\n",
      "mmsi: 416000818   fishing days: 52   country:  Taiwan\n",
      "mmsi: 416002732   fishing days: 48   country:  Taiwan\n",
      "mmsi: 416243500   fishing days: 47   country:  Taiwan\n",
      "mmsi: 416011800   fishing days: 43   country:  Taiwan\n",
      "mmsi: 416004624   fishing days: 42   country:  Taiwan\n",
      "mmsi: 416003484   fishing days: 41   country:  Taiwan\n",
      "mmsi: 416000464   fishing days: 39   country:  Taiwan\n",
      "mmsi: 645378000   fishing days: 38   country:  Mauritius\n",
      "mmsi: 416004342   fishing days: 38   country:  Taiwan\n",
      "mmsi: 416223700   fishing days: 38   country:  Taiwan\n",
      "mmsi: 416004168   fishing days: 38   country:  Taiwan\n",
      "mmsi: 416002839   fishing days: 38   country:  Taiwan\n",
      "mmsi: 416002646   fishing days: 37   country:  Taiwan\n",
      "mmsi: 416803000   fishing days: 35   country:  Taiwan\n",
      "mmsi: 416002269   fishing days: 35   country:  Taiwan\n",
      "mmsi: 416004485   fishing days: 34   country:  Taiwan\n",
      "mmsi: 416002876   fishing days: 33   country:  Taiwan\n",
      "mmsi: 416004245   fishing days: 33   country:  Taiwan\n",
      "mmsi: 660002700   fishing days: 33   country:  Reunion\n",
      "mmsi: 533333009   fishing days: 33   country:  Malaysia\n",
      "mmsi: 416308000   fishing days: 32   country:  Taiwan\n",
      "mmsi: 416002151   fishing days: 32   country:  Taiwan\n",
      "mmsi: 416002235   fishing days: 31   country:  Taiwan\n",
      "mmsi: 664583000   fishing days: 31   country:  Seychelles\n",
      "mmsi: 416225500   fishing days: 30   country:  Taiwan\n",
      "mmsi: 416002407   fishing days: 30   country:  Taiwan\n",
      "mmsi: 416003800   fishing days: 30   country:  Taiwan\n",
      "mmsi: 312888000   fishing days: 29   country:  Belize\n",
      "mmsi: 416002659   fishing days: 29   country:  Taiwan\n",
      "mmsi: 533333005   fishing days: 29   country:  Malaysia\n",
      "mmsi: 370599000   fishing days: 27   country:  Panama\n",
      "mmsi: 664544000   fishing days: 26   country:  Seychelles\n",
      "mmsi: 416124600   fishing days: 26   country:  Taiwan\n",
      "mmsi: 416768000   fishing days: 26   country:  Taiwan\n",
      "mmsi: 416005500   fishing days: 25   country:  Taiwan\n",
      "mmsi: 416004507   fishing days: 24   country:  Taiwan\n",
      "mmsi: 416004463   fishing days: 24   country:  Taiwan\n",
      "mmsi: 416002885   fishing days: 23   country:  Taiwan\n",
      "mmsi: 664582000   fishing days: 23   country:  Seychelles\n",
      "mmsi: 416067700   fishing days: 22   country:  Taiwan\n",
      "mmsi: 533333003   fishing days: 22   country:  Malaysia\n",
      "mmsi: 664137000   fishing days: 22   country:  Seychelles\n",
      "mmsi: 416002875   fishing days: 22   country:  Taiwan\n",
      "mmsi: 533333007   fishing days: 21   country:  Malaysia\n",
      "mmsi: 416000303   fishing days: 21   country:  Taiwan\n",
      "mmsi: 461000062   fishing days: 21   country:  Oman\n",
      "mmsi: 440822000   fishing days: 20   country:  Korea\n",
      "mmsi: 416000154   fishing days: 19   country:  Taiwan\n",
      "mmsi: 416004797   fishing days: 19   country:  Taiwan\n",
      "mmsi: 416004790   fishing days: 19   country:  Taiwan\n",
      "mmsi: 416002948   fishing days: 19   country:  Taiwan\n",
      "mmsi: 416004368   fishing days: 19   country:  Taiwan\n",
      "mmsi: 416002198   fishing days: 18   country:  Taiwan\n",
      "mmsi: 416004427   fishing days: 18   country:  Taiwan\n",
      "mmsi: 416002841   fishing days: 18   country:  Taiwan\n",
      "mmsi: 416002926   fishing days: 17   country:  Taiwan\n",
      "mmsi: 247354400   fishing days: 17   country:  Italy\n",
      "mmsi: 416002447   fishing days: 17   country:  Taiwan\n",
      "mmsi: 660004300   fishing days: 17   country:  Reunion\n",
      "mmsi: 416002232   fishing days: 16   country:  Taiwan\n",
      "mmsi: 416702000   fishing days: 16   country:  Taiwan\n",
      "mmsi: 441734000   fishing days: 16   country:  Korea\n",
      "mmsi: 416841000   fishing days: 16   country:  Taiwan\n",
      "mmsi: 416002632   fishing days: 16   country:  Taiwan\n",
      "mmsi: 441865000   fishing days: 15   country:  Korea\n",
      "mmsi: 416004378   fishing days: 15   country:  Taiwan\n",
      "mmsi: 431602690   fishing days: 15   country:  Japan\n",
      "mmsi: 416094500   fishing days: 14   country:  Taiwan\n",
      "mmsi: 312729000   fishing days: 14   country:  Belize\n",
      "mmsi: 412695710   fishing days: 14   country:  China\n",
      "mmsi: 412695690   fishing days: 13   country:  China\n",
      "mmsi: 416826000   fishing days: 13   country:  Taiwan\n",
      "mmsi: 416004772   fishing days: 13   country:  Taiwan\n",
      "mmsi: 416004675   fishing days: 13   country:  Taiwan\n",
      "mmsi: 660004900   fishing days: 12   country:  Reunion\n",
      "mmsi: 416002764   fishing days: 12   country:  Taiwan\n",
      "mmsi: 224464000   fishing days: 12   country:  Spain\n",
      "mmsi: 416003953   fishing days: 12   country:  Taiwan\n",
      "mmsi: 416167900   fishing days: 11   country:  Taiwan\n",
      "mmsi: 416002325   fishing days: 11   country:  Taiwan\n",
      "mmsi: 548055100   fishing days: 11   country:  Philippines\n",
      "mmsi: 660005100   fishing days: 11   country:  Reunion\n",
      "mmsi: 224069690   fishing days: 11   country:  Spain\n",
      "mmsi: 416002287   fishing days: 11   country:  Taiwan\n",
      "mmsi: 416333000   fishing days: 10   country:  Taiwan\n",
      "mmsi: 416556000   fishing days: 10   country:  Taiwan\n",
      "mmsi: 577132000   fishing days: 10   country:  Vanuatu\n",
      "mmsi: 432298000   fishing days: 10   country:  Japan\n",
      "mmsi: 416002515   fishing days: 10   country:  Taiwan\n",
      "mmsi: 416002826   fishing days: 9   country:  Taiwan\n",
      "mmsi: 416002496   fishing days: 9   country:  Taiwan\n",
      "mmsi: 416004236   fishing days: 9   country:  Taiwan\n",
      "mmsi: 416001054   fishing days: 9   country:  Taiwan\n",
      "mmsi: 660001900   fishing days: 8   country:  Reunion\n",
      "mmsi: 660003800   fishing days: 8   country:  Reunion\n",
      "mmsi: 416003048   fishing days: 8   country:  Taiwan\n",
      "mmsi: 416002794   fishing days: 8   country:  Taiwan\n",
      "mmsi: 416002779   fishing days: 8   country:  Taiwan\n",
      "mmsi: 312422000   fishing days: 8   country:  Belize\n",
      "mmsi: 416001900   fishing days: 7   country:  Taiwan\n",
      "mmsi: 416004095   fishing days: 7   country:  Taiwan\n",
      "mmsi: 416004718   fishing days: 7   country:  Taiwan\n",
      "mmsi: 440316000   fishing days: 7   country:  Korea\n",
      "mmsi: 226312000   fishing days: 7   country:  France\n",
      "mmsi: 416055600   fishing days: 7   country:  Taiwan\n",
      "mmsi: 416602000   fishing days: 6   country:  Taiwan\n",
      "mmsi: 416001769   fishing days: 5   country:  Taiwan\n",
      "mmsi: 416003724   fishing days: 5   country:  Taiwan\n",
      "mmsi: 168007   fishing days: 5   country:  invalid mmsi\n",
      "mmsi: 416808000   fishing days: 5   country:  Taiwan\n",
      "mmsi: 416003021   fishing days: 5   country:  Taiwan\n",
      "mmsi: 416771000   fishing days: 4   country:  Taiwan\n",
      "mmsi: 525010274   fishing days: 4   country:  Indonesia\n",
      "mmsi: 416002656   fishing days: 4   country:  Taiwan\n",
      "mmsi: 416000012   fishing days: 4   country:  Taiwan\n",
      "mmsi: 416000633   fishing days: 4   country:  Taiwan\n",
      "mmsi: 440099000   fishing days: 4   country:  Korea\n",
      "mmsi: 416087700   fishing days: 4   country:  Taiwan\n",
      "mmsi: 416219500   fishing days: 4   country:  Taiwan\n",
      "mmsi: 416000833   fishing days: 4   country:  Taiwan\n",
      "mmsi: 200006671   fishing days: 3   country:  invalid mmsi\n",
      "mmsi: 416088900   fishing days: 3   country:  Taiwan\n",
      "mmsi: 412989000   fishing days: 3   country:  China\n",
      "mmsi: 416220900   fishing days: 3   country:  Taiwan\n",
      "mmsi: 228231700   fishing days: 3   country:  France\n",
      "mmsi: 525010273   fishing days: 3   country:  Indonesia\n",
      "mmsi: 416004418   fishing days: 3   country:  Taiwan\n",
      "mmsi: 416003496   fishing days: 3   country:  Taiwan\n",
      "mmsi: 416089800   fishing days: 3   country:  Taiwan\n",
      "mmsi: 416004687   fishing days: 3   country:  Taiwan\n",
      "mmsi: 412329677   fishing days: 3   country:  China\n",
      "mmsi: 416002998   fishing days: 3   country:  Taiwan\n",
      "mmsi: 440329000   fishing days: 2   country:  Korea\n",
      "mmsi: 416889000   fishing days: 2   country:  Taiwan\n",
      "mmsi: 416173500   fishing days: 2   country:  Taiwan\n",
      "mmsi: 416003315   fishing days: 2   country:  Taiwan\n",
      "mmsi: 412695660   fishing days: 2   country:  China\n",
      "mmsi: 412695680   fishing days: 2   country:  China\n",
      "mmsi: 416705000   fishing days: 2   country:  Taiwan\n",
      "mmsi: 416189600   fishing days: 2   country:  Taiwan\n",
      "mmsi: 416103900   fishing days: 2   country:  Taiwan\n",
      "mmsi: 416015700   fishing days: 2   country:  Taiwan\n",
      "mmsi: 664268000   fishing days: 2   country:  Seychelles\n",
      "mmsi: 412328742   fishing days: 2   country:  China\n",
      "mmsi: 416136900   fishing days: 2   country:  Taiwan\n",
      "mmsi: 225461000   fishing days: 2   country:  Spain\n",
      "mmsi: 416348000   fishing days: 2   country:  Taiwan\n",
      "mmsi: 416869000   fishing days: 2   country:  Taiwan\n",
      "mmsi: 431704490   fishing days: 2   country:  Japan\n",
      "mmsi: 416002178   fishing days: 2   country:  Taiwan\n",
      "mmsi: 664567000   fishing days: 2   country:  Seychelles\n",
      "mmsi: 416002944   fishing days: 1   country:  Taiwan\n",
      "mmsi: 416704000   fishing days: 1   country:  Taiwan\n",
      "mmsi: 215482000   fishing days: 1   country:  Malta\n",
      "mmsi: 888802000   fishing days: 1   country:  invalid mmsi\n",
      "mmsi: 200006637   fishing days: 1   country:  invalid mmsi\n",
      "mmsi: 123456789   fishing days: 1   country:  invalid mmsi\n",
      "mmsi: 416002865   fishing days: 1   country:  Taiwan\n",
      "mmsi: 416002934   fishing days: 1   country:  Taiwan\n",
      "mmsi: 664000022   fishing days: 1   country:  Seychelles\n",
      "mmsi: 440328000   fishing days: 1   country:  Korea\n",
      "mmsi: 416003015   fishing days: 1   country:  Taiwan\n",
      "mmsi: 664545000   fishing days: 1   country:  Seychelles\n",
      "mmsi: 416121600   fishing days: 1   country:  Taiwan\n",
      "mmsi: 312000125   fishing days: 1   country:  Belize\n",
      "mmsi: 224922000   fishing days: 1   country:  Spain\n",
      "mmsi: 412420909   fishing days: 1   country:  China\n",
      "mmsi: 416238900   fishing days: 1   country:  Taiwan\n",
      "mmsi: 416002667   fishing days: 1   country:  Taiwan\n",
      "mmsi: 416002286   fishing days: 1   country:  Taiwan\n"
     ]
    }
   ],
   "source": [
    "for r in days_by_mmsi:\n",
    "    if \"Taiwan\" in r[2]:\n",
    "        r[2] = \"Taiwan\"\n",
    "    print \"mmsi:\", r[0],\"  fishing days:\", r[1], \"  country: \", r[2].split(\" (\")[0]"
   ]
  },
  {
   "cell_type": "code",
   "execution_count": 12,
   "metadata": {
    "collapsed": false
   },
   "outputs": [
    {
     "name": "stdout",
     "output_type": "stream",
     "text": [
      "Waiting on bqjob_r311918235e44e178_000001533d30fb16_4 ... (3s) Current status: DONE   \n",
      "Query time: 6.25192213058 seconds.\n"
     ]
    }
   ],
   "source": [
    "# Now Group by Country\n",
    "q = '''\n",
    "SELECT \n",
    "country,\n",
    "sum(number) number\n",
    "from\n",
    "(select a.mmsi mmsi,\n",
    "a.number number,\n",
    "if(b.country is null, \"invalid mmsi\",b.country) country,\n",
    "b.continent continent\n",
    "from\n",
    "(select mmsi, \n",
    "integer(if(length(string(mmsi))= 9,LEFT(STRING(mmsi),3), '0')) code,\n",
    "count(*) number from\n",
    "(SELECT\n",
    "  mmsi,\n",
    "  date(timestamp) date,\n",
    "  first(latitude) lat,\n",
    "  first(longitude) lon\n",
    "FROM\n",
    "  [tilesets.pipeline_2015_08_24_08_19_01]\n",
    "WHERE\n",
    "  latitude > '''+str(min_lat)+'''\n",
    "  AND latitude <'''+str(max_lat)+'''\n",
    "  AND longitude > '''+str(min_lon)+'''\n",
    "  AND longitude < '''+str(max_lon)+'''\n",
    "  AND weight >=.5\n",
    "group by mmsi, date) \n",
    "group by mmsi, code \n",
    ") \n",
    "a\n",
    "left join [scratch_roan.country_code] b\n",
    "on a.code = b.code)\n",
    "group by country\n",
    "order by number desc'''\n",
    "\n",
    "country_groups = Query(q)"
   ]
  },
  {
   "cell_type": "code",
   "execution_count": 13,
   "metadata": {
    "collapsed": false
   },
   "outputs": [
    {
     "name": "stdout",
     "output_type": "stream",
     "text": [
      "days\tcountry\n",
      "3305 \tTaiwan\n",
      "160 \tMalaysia\n",
      "108 \tSeychelles\n",
      "89 \tReunion\n",
      "86 \tIndonesia\n",
      "65 \tKorea\n",
      "52 \tBelize\n",
      "40 \tChina\n",
      "38 \tMauritius\n",
      "27 \tPanama\n",
      "27 \tJapan\n",
      "26 \tSpain\n",
      "21 \tOman\n",
      "17 \tItaly\n",
      "11 \tinvalid mmsi\n",
      "11 \tPhilippines\n",
      "10 \tFrance\n",
      "10 \tVanuatu\n",
      "1 \tMalta\n"
     ]
    }
   ],
   "source": [
    "print \"days\\tcountry\"\n",
    "for c in country_groups:\n",
    "    print c[1],'\\t', c[0].split(\" (\")[0]"
   ]
  },
  {
   "cell_type": "code",
   "execution_count": 16,
   "metadata": {
    "collapsed": false
   },
   "outputs": [
    {
     "data": {
      "image/png": "[encoded data removed]",
      "text/plain": [
       "<matplotlib.figure.Figure at 0x10b683050>"
      ]
     },
     "metadata": {},
     "output_type": "display_data"
    }
   ],
   "source": [
    "objects = [c[0].split(\" (\")[0] for c in country_groups]\n",
    "y_pos = np.arange(len(objects))\n",
    "performance = [c[1] for c in country_groups]\n",
    " \n",
    "plt.figure(figsize=(12,4))\n",
    "plt.bar(y_pos-4, performance, align='center', alpha=0.5,)\n",
    "plt.xticks(y_pos-4+.2, objects, fontsize=12) # rotation=45\n",
    "locs, labels = plt.xticks()\n",
    "plt.setp(labels, rotation=45,ha='right')\n",
    "plt.ylabel('Usage',fontsize=12)\n",
    "plt.title('Fishing Days by Country in Mascarene Plateau, Jan 2014 to July 2015',fontsize=15)\n",
    "\n",
    "ax = plt.axes()\n",
    "ax.xaxis.set_ticks_position('none') \n",
    "plt.savefig(\"fishing_effort_mascarene_by_Country.png\",bbox_inches='tight',dpi=150,transparent=True,pad_inches=.1)\n",
    "plt.show()"
   ]
  },
  {
   "cell_type": "markdown",
   "metadata": {},
   "source": [
    "# Map the Fishing Effort in This Region"
   ]
  },
  {
   "cell_type": "code",
   "execution_count": 87,
   "metadata": {
    "collapsed": false
   },
   "outputs": [
    {
     "name": "stdout",
     "output_type": "stream",
     "text": [
      "Waiting on bqjob_r5ccc58aa5d57fb82_0000015339bcd28d_10 ... (0s) Current status: DONE   \n",
      "Query time: 1.82012200356 seconds.\n"
     ]
    }
   ],
   "source": [
    "# Now Group by Country\n",
    "q = '''\n",
    "SELECT\n",
    "lat,\n",
    "lon,\n",
    "count(*) fishing_days\n",
    "from\n",
    "(SELECT\n",
    "  mmsi,\n",
    "  date(timestamp) date,\n",
    "  integer(first(latitude)*4) lat,\n",
    "  integer(first(longitude)*4) lon\n",
    "FROM\n",
    "  [tilesets.pipeline_2015_08_24_08_19_01]\n",
    "WHERE\n",
    "  latitude > '''+str(min_lat)+'''\n",
    "  AND latitude <'''+str(max_lat)+'''\n",
    "  AND longitude > '''+str(min_lon)+'''\n",
    "  AND longitude < '''+str(max_lon)+'''\n",
    "  AND weight >=.5\n",
    "group by mmsi, date) \n",
    "group by lat, lon\n",
    "'''\n",
    "\n",
    "fishing_grid = Query(q)"
   ]
  },
  {
   "cell_type": "code",
   "execution_count": 90,
   "metadata": {
    "collapsed": false
   },
   "outputs": [],
   "source": [
    "cellsize = .25\n",
    "one_over_cellsize = 4\n",
    "\n",
    "num_lats = (max_lat-min_lat)*one_over_cellsize+1\n",
    "num_lons = (max_lon-min_lon)*one_over_cellsize+1\n",
    "\n",
    "\n",
    "grid = np.zeros(shape=(num_lats,num_lons))\n",
    "\n",
    "for row in fishing_grid:\n",
    "    lat = int(row[0])\n",
    "    lon = int(row[1])\n",
    "    lat_index = lat-min_lat*one_over_cellsize\n",
    "    lon_index = lon-min_lon*one_over_cellsize\n",
    "    grid[lat_index][lon_index] = int(row[2])"
   ]
  },
  {
   "cell_type": "code",
   "execution_count": 110,
   "metadata": {
    "collapsed": false
   },
   "outputs": [
    {
     "data": {
      "image/png": "[encoded data removed]",
      "text/plain": [
       "<matplotlib.figure.Figure at 0x10f126d10>"
      ]
     },
     "metadata": {},
     "output_type": "display_data"
    }
   ],
   "source": [
    "plt.rcParams[\"figure.figsize\"] = [8,9]\n",
    "\n",
    "firstlat = max_lat\n",
    "lastlat =  min_lat\n",
    "firstlon = min_lon\n",
    "lastlon = max_lon\n",
    "scale = cellsize\n",
    "\n",
    "numlats = int((firstlat-lastlat)/scale+.5)\n",
    "numlons = int((lastlon-firstlon)/scale+.5)\n",
    "    \n",
    "lat_boxes = np.linspace(lastlat,firstlat,num=numlats,endpoint=False)\n",
    "lon_boxes = np.linspace(firstlon,lastlon,num=numlons,endpoint=False)\n",
    "\n",
    "fig = plt.figure()\n",
    "extra = 10\n",
    "m = Basemap(llcrnrlat=lastlat-extra, urcrnrlat=firstlat+extra,\n",
    "          llcrnrlon=firstlon-extra, urcrnrlon=lastlon+extra, lat_ts=0, projection='mill',resolution=\"h\")\n",
    "\n",
    "m.drawmapboundary()#fill_color='#111111')\n",
    "m.drawcoastlines(linewidth=.2)\n",
    "m.fillcontinents('#cccccc',lake_color='#cccccc')#, lake_color, ax, zorder, alpha)\n",
    "\n",
    "x = np.linspace(firstlon, lastlon, -(firstlon-lastlon)*one_over_cellsize+1)\n",
    "y = np.linspace(lastlat, firstlat, (firstlat-lastlat)*one_over_cellsize+1)\n",
    "x, y = np.meshgrid(x, y)\n",
    "converted_x, converted_y = m(x, y)\n",
    "from matplotlib import colors,colorbar\n",
    "\n",
    "maximum = grid.max()\n",
    "minimum = 1\n",
    "\n",
    "norm = colors.LogNorm(vmin=minimum, vmax=maximum)\n",
    "# norm = colors.Normalize(vmin=0, vmax=1000)\n",
    "\n",
    "m.pcolormesh(converted_x, converted_y, grid, norm=norm, vmin=minimum, vmax=maximum, cmap = plt.get_cmap('viridis'))\n",
    "\n",
    "t = \"Fishing Days Jan 2014 to July 2015\"\n",
    "plt.title(t, color = \"#000000\", fontsize=18)\n",
    "\n",
    "ax = fig.add_axes([0.2, 0.1, 0.65, 0.02]) #x coordinate , \n",
    "norm = colors.LogNorm(vmin=minimum, vmax=maximum)\n",
    "# norm = colors.Normalize(vmin=0, vmax=1000)\n",
    "lvls = np.logspace(np.log10(minimum),np.log10(maximum),num=8)\n",
    "cb = colorbar.ColorbarBase(ax,norm = norm, orientation='horizontal', ticks=lvls, cmap = plt.get_cmap('viridis'))\n",
    "\n",
    "#cb.ax.set_xticklabels([\"0\" ,round(m3**.5,1), m3, round(m3**1.5,1), m3*m3,round(m3**2.5,1), str(round(m3**3,1))+\"+\"], fontsize=10)\n",
    "cb.ax.set_xticklabels([int(i) for i in lvls], fontsize=10, color = \"#000000\")\n",
    "cb.set_label('Fishing Days',labelpad=-40, y=0.45, color = \"#000000\")\n",
    "plt.savefig(\"fishing_effort_mascarene.png\",bbox_inches='tight',dpi=300,transparent=True,pad_inches=.1)\n",
    "plt.show()"
   ]
  },
  {
   "cell_type": "code",
   "execution_count": null,
   "metadata": {
    "collapsed": true
   },
   "outputs": [],
   "source": []
  }
 ],
 "metadata": {
  "kernelspec": {
   "display_name": "Python 2",
   "language": "python",
   "name": "python2"
  },
  "language_info": {
   "codemirror_mode": {
    "name": "ipython",
    "version": 2
   },
   "file_extension": ".py",
   "mimetype": "text/x-python",
   "name": "python",
   "nbconvert_exporter": "python",
   "pygments_lexer": "ipython2",
   "version": "2.7.3"
  }
 },
 "nbformat": 4,
 "nbformat_minor": 0
}
