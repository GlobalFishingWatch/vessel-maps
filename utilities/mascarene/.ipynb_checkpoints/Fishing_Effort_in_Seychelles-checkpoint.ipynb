{
 "cells": [
  {
   "cell_type": "markdown",
   "metadata": {},
   "source": [
    "# Fishing Effort in the Seychelles EEZ"
   ]
  },
  {
   "cell_type": "code",
   "execution_count": 4,
   "metadata": {
    "collapsed": false
   },
   "outputs": [],
   "source": [
    "\n",
    "import bq  \n",
    "import time\n",
    "import numpy as np\n",
    "import matplotlib.pyplot as plt\n",
    "import matplotlib.pyplot as plt\n",
    "from mpl_toolkits.basemap import Basemap\n",
    "import matplotlib\n",
    "from matplotlib import colors,colorbar\n",
    "import matplotlib\n",
    "%matplotlib inline\n",
    "import csv \n",
    "import math\n",
    "from math import radians, cos, sin, asin, sqrt\n",
    "from scipy import stats\n",
    "import matplotlib.dates as mdates\n",
    "\n",
    "client = bq.Client.Get()"
   ]
  },
  {
   "cell_type": "code",
   "execution_count": 2,
   "metadata": {
    "collapsed": true
   },
   "outputs": [],
   "source": [
    "# create a bounding box:\n",
    "max_lat = 3\n",
    "min_lat = -17\n",
    "max_lon = 61.5\n",
    "min_lon = 40\n",
    "\n"
   ]
  },
  {
   "cell_type": "code",
   "execution_count": 3,
   "metadata": {
    "collapsed": true
   },
   "outputs": [],
   "source": [
    "def Query(q):\n",
    "    t0 = time.time()\n",
    "    answer = client.ReadTableRows(client.Query(q)['configuration']['query']['destinationTable'])\n",
    "    print 'Query time: ' + str(time.time() - t0) + ' seconds.'\n",
    "    return answer"
   ]
  },
  {
   "cell_type": "code",
   "execution_count": 9,
   "metadata": {
    "collapsed": false
   },
   "outputs": [
    {
     "name": "stdout",
     "output_type": "stream",
     "text": [
      "Waiting on bqjob_r6d13fb4acee1672b_00000153e6e1bd7b_3 ... (0s) Current status: DONE   \n",
      "Query time: 1.04782605171 seconds.\n"
     ]
    }
   ],
   "source": [
    "q = '''\n",
    "select count(distinct mmsi) \n",
    "FROM\n",
    "  [tilesets.pipeline_2015_08_24_08_19_01]\n",
    "WHERE\n",
    "  latitude > '''+str(min_lat)+'''\n",
    "  AND latitude <'''+str(max_lat)+'''\n",
    "  AND longitude > '''+str(min_lon)+'''\n",
    "  AND longitude < '''+str(max_lon)+'''\n",
    "  AND weight >=.5\n",
    "  AND JSON_EXTRACT(extra,\"$.eez\") = '\"EEZ:Seychelles\"'\n",
    "  '''\n",
    "number_of_mmsi = Query(q)"
   ]
  },
  {
   "cell_type": "code",
   "execution_count": 10,
   "metadata": {
    "collapsed": false
   },
   "outputs": [
    {
     "name": "stdout",
     "output_type": "stream",
     "text": [
      "Number of unique MMSI: 101\n"
     ]
    }
   ],
   "source": [
    "print \"Number of unique MMSI:\",int(number_of_mmsi[0][0])"
   ]
  },
  {
   "cell_type": "markdown",
   "metadata": {},
   "source": [
    "# 101 MMSI were fishing in this region from January 2014 to July 2015"
   ]
  },
  {
   "cell_type": "code",
   "execution_count": 11,
   "metadata": {
    "collapsed": false
   },
   "outputs": [
    {
     "name": "stdout",
     "output_type": "stream",
     "text": [
      "Waiting on bqjob_r4425054b493e87_00000153e6e1d27d_4 ... (48s) Current status: DONE   \n",
      "Query time: 51.1671459675 seconds.\n"
     ]
    }
   ],
   "source": [
    "q = '''\n",
    "select a.mmsi mmsi,\n",
    "a.number number,\n",
    "if(b.country is null, \"invalid mmsi\",b.country) country,\n",
    "b.continent continent\n",
    "from\n",
    "(select mmsi, \n",
    "integer(if(length(string(mmsi))= 9,LEFT(STRING(mmsi),3), '0')) code,\n",
    "count(*) number from\n",
    "(SELECT\n",
    "  mmsi,\n",
    "  date(timestamp) date,\n",
    "  first(latitude) lat,\n",
    "  first(longitude) lon\n",
    "FROM\n",
    "  [tilesets.pipeline_2015_08_24_08_19_01]\n",
    "WHERE\n",
    "  latitude > -15\n",
    "  AND latitude <-5\n",
    "  AND longitude > 55\n",
    "  AND longitude <65\n",
    "  AND weight >=.5\n",
    "  AND JSON_EXTRACT(extra,\"$.eez\") = '\"EEZ:Seychelles\"'\n",
    "\n",
    "group by mmsi, date) \n",
    "group by mmsi, code \n",
    ") \n",
    "a\n",
    "left join [scratch_roan.country_code] b\n",
    "on a.code = b.code \n",
    "order by number desc'''\n",
    "\n",
    "days_by_mmsi = Query(q)"
   ]
  },
  {
   "cell_type": "markdown",
   "metadata": {},
   "source": [
    "# The List of MMSI that were fishing are below"
   ]
  },
  {
   "cell_type": "code",
   "execution_count": 12,
   "metadata": {
    "collapsed": false
   },
   "outputs": [
    {
     "name": "stdout",
     "output_type": "stream",
     "text": [
      "mmsi: 664544000   fishing days: 19   country:  Seychelles\n",
      "mmsi: 416768000   fishing days: 18   country:  Taiwan\n",
      "mmsi: 660004300   fishing days: 16   country:  Reunion\n",
      "mmsi: 247354400   fishing days: 15   country:  Italy\n",
      "mmsi: 416004773   fishing days: 11   country:  Taiwan\n",
      "mmsi: 660005100   fishing days: 11   country:  Reunion\n",
      "mmsi: 416556000   fishing days: 10   country:  Taiwan\n",
      "mmsi: 412695690   fishing days: 10   country:  China\n",
      "mmsi: 416803000   fishing days: 9   country:  Taiwan\n",
      "mmsi: 224069690   fishing days: 9   country:  Spain\n",
      "mmsi: 416004790   fishing days: 9   country:  Taiwan\n",
      "mmsi: 416241800   fishing days: 9   country:  Taiwan\n",
      "mmsi: 416333000   fishing days: 8   country:  Taiwan\n",
      "mmsi: 660004900   fishing days: 8   country:  Reunion\n",
      "mmsi: 440822000   fishing days: 7   country:  Korea\n",
      "mmsi: 441734000   fishing days: 6   country:  Korea\n",
      "mmsi: 412695710   fishing days: 6   country:  China\n",
      "mmsi: 416055600   fishing days: 6   country:  Taiwan\n",
      "mmsi: 664582000   fishing days: 6   country:  Seychelles\n",
      "mmsi: 660001900   fishing days: 6   country:  Reunion\n",
      "mmsi: 548055100   fishing days: 6   country:  Philippines\n",
      "mmsi: 224464000   fishing days: 5   country:  Spain\n",
      "mmsi: 416244700   fishing days: 4   country:  Taiwan\n",
      "mmsi: 226312000   fishing days: 4   country:  France\n",
      "mmsi: 664137000   fishing days: 4   country:  Seychelles\n",
      "mmsi: 441865000   fishing days: 4   country:  Korea\n",
      "mmsi: 660003800   fishing days: 4   country:  Reunion\n",
      "mmsi: 525010274   fishing days: 4   country:  Indonesia\n",
      "mmsi: 645378000   fishing days: 3   country:  Mauritius\n",
      "mmsi: 416004236   fishing days: 3   country:  Taiwan\n",
      "mmsi: 228231700   fishing days: 3   country:  France\n",
      "mmsi: 525010273   fishing days: 3   country:  Indonesia\n",
      "mmsi: 416103900   fishing days: 2   country:  Taiwan\n",
      "mmsi: 431704490   fishing days: 2   country:  Japan\n",
      "mmsi: 412695680   fishing days: 2   country:  China\n",
      "mmsi: 416087700   fishing days: 2   country:  Taiwan\n",
      "mmsi: 440099000   fishing days: 2   country:  Korea\n",
      "mmsi: 225461000   fishing days: 2   country:  Spain\n",
      "mmsi: 416808000   fishing days: 2   country:  Taiwan\n",
      "mmsi: 664583000   fishing days: 2   country:  Seychelles\n",
      "mmsi: 664268000   fishing days: 2   country:  Seychelles\n",
      "mmsi: 412328742   fishing days: 1   country:  China\n",
      "mmsi: 664545000   fishing days: 1   country:  Seychelles\n",
      "mmsi: 416223700   fishing days: 1   country:  Taiwan\n",
      "mmsi: 412989000   fishing days: 1   country:  China\n",
      "mmsi: 888802000   fishing days: 1   country:  invalid mmsi\n",
      "mmsi: 224922000   fishing days: 1   country:  Spain\n",
      "mmsi: 664000022   fishing days: 1   country:  Seychelles\n",
      "mmsi: 525000000   fishing days: 1   country:  Indonesia\n"
     ]
    }
   ],
   "source": [
    "for r in days_by_mmsi:\n",
    "    if \"Taiwan\" in r[2]:\n",
    "        r[2] = \"Taiwan\"\n",
    "    print \"mmsi:\", r[0],\"  fishing days:\", r[1], \"  country: \", r[2].split(\" (\")[0]"
   ]
  },
  {
   "cell_type": "code",
   "execution_count": 23,
   "metadata": {
    "collapsed": false
   },
   "outputs": [
    {
     "name": "stdout",
     "output_type": "stream",
     "text": [
      "Waiting on bqjob_r151fd67d16850a9_00000153e6e5d96a_8 ... (0s) Current status: DONE   \n",
      "Query time: 1.75776100159 seconds.\n"
     ]
    }
   ],
   "source": [
    "# Now Group by Country\n",
    "q = '''\n",
    "SELECT \n",
    "country,\n",
    "sum(number) number\n",
    "from\n",
    "(select a.mmsi mmsi,\n",
    "a.number number,\n",
    "if(b.country is null, \"invalid mmsi\",b.country) country,\n",
    "b.continent continent\n",
    "from\n",
    "(select mmsi, \n",
    "integer(if(length(string(mmsi))= 9,LEFT(STRING(mmsi),3), '0')) code,\n",
    "count(*) number from\n",
    "(SELECT\n",
    "  mmsi,\n",
    "  date(timestamp) date,\n",
    "  first(latitude) lat,\n",
    "  first(longitude) lon\n",
    "FROM\n",
    "  [tilesets.pipeline_2015_08_24_08_19_01]\n",
    "WHERE\n",
    "  latitude > '''+str(min_lat)+'''\n",
    "  AND latitude <'''+str(max_lat)+'''\n",
    "  AND longitude > '''+str(min_lon)+'''\n",
    "  AND longitude < '''+str(max_lon)+'''\n",
    "  AND weight >=.5\n",
    "  AND JSON_EXTRACT(extra,\"$.eez\") = '\"EEZ:Seychelles\"'\n",
    "\n",
    "group by mmsi, date) \n",
    "group by mmsi, code \n",
    ") \n",
    "a\n",
    "left join [scratch_roan.country_code] b\n",
    "on a.code = b.code)\n",
    "group by country\n",
    "order by number desc'''\n",
    "\n",
    "country_groups = Query(q)"
   ]
  },
  {
   "cell_type": "code",
   "execution_count": 24,
   "metadata": {
    "collapsed": false
   },
   "outputs": [
    {
     "name": "stdout",
     "output_type": "stream",
     "text": [
      "days\tcountry\n",
      "556 \tTaiwan\n",
      "482 \tKorea\n",
      "444 \tSeychelles\n",
      "336 \tReunion\n",
      "233 \tSpain\n",
      "173 \tChina\n",
      "112 \tMauritius\n",
      "77 \tFrance\n",
      "73 \tinvalid mmsi\n",
      "61 \tItaly\n",
      "43 \tThailand\n",
      "32 \tIran\n",
      "9 \tIndonesia\n",
      "6 \tPhilippines\n",
      "4 \tJapan\n",
      "2 \tPanama\n"
     ]
    }
   ],
   "source": [
    "print \"days\\tcountry\"\n",
    "for c in country_groups:\n",
    "    print c[1],'\\t', c[0].split(\" (\")[0]"
   ]
  },
  {
   "cell_type": "code",
   "execution_count": 30,
   "metadata": {
    "collapsed": false
   },
   "outputs": [
    {
     "data": {
      "image/png": "[encoded data removed]",
      "text/plain": [
       "<matplotlib.figure.Figure at 0x10b600250>"
      ]
     },
     "metadata": {},
     "output_type": "display_data"
    }
   ],
   "source": [
    "objects = [c[0].split(\" (\")[0] for c in country_groups]\n",
    "y_pos = np.arange(len(objects))\n",
    "performance = [c[1] for c in country_groups]\n",
    " \n",
    "plt.figure(figsize=(12,4))\n",
    "plt.bar(y_pos-4, performance, align='center', alpha=0.5,)\n",
    "plt.xticks(y_pos-4+.2, objects, fontsize=12) # rotation=45\n",
    "locs, labels = plt.xticks()\n",
    "plt.setp(labels, rotation=45,ha='right')\n",
    "plt.ylabel('Fishing Days',fontsize=12)\n",
    "plt.title('Fishing Days by Country in Seychelles, Jan 2014 to July 2015',fontsize=15)\n",
    "\n",
    "ax = plt.axes()\n",
    "ax.xaxis.set_ticks_position('none') \n",
    "plt.savefig(\"fishing_effort_seychelles_by_Country.png\",bbox_inches='tight',dpi=150,transparent=True,pad_inches=.1)\n",
    "plt.show()"
   ]
  },
  {
   "cell_type": "markdown",
   "metadata": {},
   "source": [
    "# Map the Fishing Effort in This Region"
   ]
  },
  {
   "cell_type": "code",
   "execution_count": 27,
   "metadata": {
    "collapsed": false
   },
   "outputs": [
    {
     "name": "stdout",
     "output_type": "stream",
     "text": [
      "Waiting on bqjob_r789c33958f9d4cb4_00000153e6e65b72_9 ... (0s) Current status: DONE   \n",
      "Query time: 1.82609796524 seconds.\n"
     ]
    }
   ],
   "source": [
    "# Now Group by Country\n",
    "q = '''\n",
    "SELECT\n",
    "lat,\n",
    "lon,\n",
    "count(*) fishing_days\n",
    "from\n",
    "(SELECT\n",
    "  mmsi,\n",
    "  date(timestamp) date,\n",
    "  integer(first(latitude)*4) lat,\n",
    "  integer(first(longitude)*4) lon\n",
    "FROM\n",
    "  [tilesets.pipeline_2015_08_24_08_19_01]\n",
    "WHERE\n",
    "  latitude > '''+str(min_lat)+'''\n",
    "  AND latitude <'''+str(max_lat)+'''\n",
    "  AND longitude > '''+str(min_lon)+'''\n",
    "  AND longitude < '''+str(max_lon)+'''\n",
    "  AND weight >=.5\n",
    "  AND JSON_EXTRACT(extra,\"$.eez\") = '\"EEZ:Seychelles\"'\n",
    "\n",
    "group by mmsi, date) \n",
    "group by lat, lon\n",
    "'''\n",
    "\n",
    "fishing_grid = Query(q)"
   ]
  },
  {
   "cell_type": "code",
   "execution_count": 28,
   "metadata": {
    "collapsed": false
   },
   "outputs": [
    {
     "name": "stderr",
     "output_type": "stream",
     "text": [
      "/Library/Frameworks/Python.framework/Versions/2.7/lib/python2.7/site-packages/ipykernel/__main__.py:8: DeprecationWarning: using a non-integer number instead of an integer will result in an error in the future\n"
     ]
    }
   ],
   "source": [
    "cellsize = .25\n",
    "one_over_cellsize = 4\n",
    "\n",
    "num_lats = (max_lat-min_lat)*one_over_cellsize+1\n",
    "num_lons = (max_lon-min_lon)*one_over_cellsize+1\n",
    "\n",
    "\n",
    "grid = np.zeros(shape=(num_lats,num_lons))\n",
    "\n",
    "for row in fishing_grid:\n",
    "    lat = int(row[0])\n",
    "    lon = int(row[1])\n",
    "    lat_index = lat-min_lat*one_over_cellsize\n",
    "    lon_index = lon-min_lon*one_over_cellsize\n",
    "    grid[lat_index][lon_index] = int(row[2])"
   ]
  },
  {
   "cell_type": "code",
   "execution_count": 29,
   "metadata": {
    "collapsed": false
   },
   "outputs": [
    {
     "data": {
      "image/png": "[encoded data removed]",
      "text/plain": [
       "<matplotlib.figure.Figure at 0x10f204390>"
      ]
     },
     "metadata": {},
     "output_type": "display_data"
    }
   ],
   "source": [
    "plt.rcParams[\"figure.figsize\"] = [8,9]\n",
    "\n",
    "firstlat = max_lat\n",
    "lastlat =  min_lat\n",
    "firstlon = min_lon\n",
    "lastlon = max_lon\n",
    "scale = cellsize\n",
    "\n",
    "numlats = int((firstlat-lastlat)/scale+.5)\n",
    "numlons = int((lastlon-firstlon)/scale+.5)\n",
    "    \n",
    "lat_boxes = np.linspace(lastlat,firstlat,num=numlats,endpoint=False)\n",
    "lon_boxes = np.linspace(firstlon,lastlon,num=numlons,endpoint=False)\n",
    "\n",
    "fig = plt.figure()\n",
    "extra = 10\n",
    "m = Basemap(llcrnrlat=lastlat-extra, urcrnrlat=firstlat+extra,\n",
    "          llcrnrlon=firstlon-extra, urcrnrlon=lastlon+extra, lat_ts=0, projection='mill',resolution=\"h\")\n",
    "\n",
    "m.drawmapboundary()#fill_color='#111111')\n",
    "m.drawcoastlines(linewidth=.2)\n",
    "m.fillcontinents('#cccccc',lake_color='#cccccc')#, lake_color, ax, zorder, alpha)\n",
    "\n",
    "x = np.linspace(firstlon, lastlon, -(firstlon-lastlon)*one_over_cellsize+1)\n",
    "y = np.linspace(lastlat, firstlat, (firstlat-lastlat)*one_over_cellsize+1)\n",
    "x, y = np.meshgrid(x, y)\n",
    "converted_x, converted_y = m(x, y)\n",
    "from matplotlib import colors,colorbar\n",
    "\n",
    "maximum = grid.max()\n",
    "minimum = 1\n",
    "\n",
    "norm = colors.LogNorm(vmin=minimum, vmax=maximum)\n",
    "# norm = colors.Normalize(vmin=0, vmax=1000)\n",
    "\n",
    "m.pcolormesh(converted_x, converted_y, grid, norm=norm, vmin=minimum, vmax=maximum, cmap = plt.get_cmap('viridis'))\n",
    "\n",
    "t = \"Fishing Days Jan 2014 to July 2015 \\n in Seychelles EEZ\"\n",
    "plt.title(t, color = \"#000000\", fontsize=18)\n",
    "\n",
    "ax = fig.add_axes([0.2, 0.1, 0.65, 0.02]) #x coordinate , \n",
    "norm = colors.LogNorm(vmin=minimum, vmax=maximum)\n",
    "# norm = colors.Normalize(vmin=0, vmax=1000)\n",
    "lvls = np.logspace(np.log10(minimum),np.log10(maximum),num=8)\n",
    "cb = colorbar.ColorbarBase(ax,norm = norm, orientation='horizontal', ticks=lvls, cmap = plt.get_cmap('viridis'))\n",
    "\n",
    "#cb.ax.set_xticklabels([\"0\" ,round(m3**.5,1), m3, round(m3**1.5,1), m3*m3,round(m3**2.5,1), str(round(m3**3,1))+\"+\"], fontsize=10)\n",
    "cb.ax.set_xticklabels([int(i) for i in lvls], fontsize=10, color = \"#000000\")\n",
    "cb.set_label('Fishing Days',labelpad=-40, y=0.45, color = \"#000000\")\n",
    "plt.savefig(\"fishing_effort_seychelles.png\",bbox_inches='tight',dpi=300,transparent=True,pad_inches=.1)\n",
    "plt.show()"
   ]
  },
  {
   "cell_type": "code",
   "execution_count": null,
   "metadata": {
    "collapsed": true
   },
   "outputs": [],
   "source": []
  }
 ],
 "metadata": {
  "kernelspec": {
   "display_name": "Python 2",
   "language": "python",
   "name": "python2"
  },
  "language_info": {
   "codemirror_mode": {
    "name": "ipython",
    "version": 2
   },
   "file_extension": ".py",
   "mimetype": "text/x-python",
   "name": "python",
   "nbconvert_exporter": "python",
   "pygments_lexer": "ipython2",
   "version": "2.7.3"
  }
 },
 "nbformat": 4,
 "nbformat_minor": 0
}
