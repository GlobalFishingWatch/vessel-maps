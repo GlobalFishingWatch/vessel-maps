{
 "cells": [
  {
   "cell_type": "markdown",
   "metadata": {},
   "source": [
    "# How Long Are the Boats?"
   ]
  },
  {
   "cell_type": "code",
   "execution_count": 30,
   "metadata": {
    "collapsed": false
   },
   "outputs": [],
   "source": [
    "import time\n",
    "import numpy as np\n",
    "%matplotlib inline\n",
    "import matplotlib.pyplot as plt\n",
    "import matplotlib.pyplot as plt\n",
    "from mpl_toolkits.basemap import Basemap\n",
    "from matplotlib import colors,colorbar\n",
    "import math\n",
    "from math import radians, cos, sin, asin, sqrt\n",
    "# from scipy import stats\n",
    "import matplotlib.dates as mdates\n",
    "from scipy import stats\n"
   ]
  },
  {
   "cell_type": "code",
   "execution_count": 23,
   "metadata": {
    "collapsed": true
   },
   "outputs": [],
   "source": [
    "import argparse\n",
    "import googleapiclient\n",
    "from googleapiclient.discovery import build\n",
    "from googleapiclient.errors import HttpError\n",
    "from oauth2client.client import GoogleCredentials\n",
    "credentials = GoogleCredentials.get_application_default()\n",
    "# Construct the service object for interacting with the BigQuery API.\n",
    "bigquery_service = build('bigquery', 'v2', credentials=credentials)"
   ]
  },
  {
   "cell_type": "code",
   "execution_count": 24,
   "metadata": {
    "collapsed": true
   },
   "outputs": [],
   "source": [
    "def Query(q):\n",
    "    query_request = bigquery_service.jobs()\n",
    "    query_data = {\n",
    "        'query': (q)\n",
    "    }\n",
    "    query_response = query_request.query(\n",
    "            projectId='world-fishing-827',\n",
    "            body=query_data).execute()\n",
    "    return query_response\n"
   ]
  },
  {
   "cell_type": "code",
   "execution_count": 25,
   "metadata": {
    "collapsed": true
   },
   "outputs": [],
   "source": [
    "q = '''\n",
    "SELECT\n",
    "integer(length/10)*10+5 length,\n",
    "count(*) number\n",
    "from\n",
    "(select mmsi, avg(length) length from (SELECT \n",
    "  mmsi,\n",
    "  INTEGER(JSON_EXTRACT(extra,\"$.to_stern\"))+INTEGER(JSON_EXTRACT(extra,\"$.to_bow\")) AS length,\n",
    "//  MAX(INTEGER(JSON_EXTRACT(extra,\"\"$.to_port\"\"))+INTEGER(JSON_EXTRACT(extra,\"\"$.to_starboard\"\"))) AS width\n",
    "FROM [data_production__projects.ORBCOMM_Historic_type5] \n",
    "WHERE mmsi IN (SELECT mmsi FROM [scratch_david_mmsi_lists.Combinedfishing_2014])\n",
    ") WHERE length>0 AND length<500 AND length IS NOT NULL \n",
    "AND mmsi IN (select mmsi from\n",
    "    [scratch_david_mmsi_lists.Combinedfishing_2014]) group by mmsi)\n",
    "group by length\n",
    "order by length asc'''\n",
    "\n",
    "lengths = Query(q)"
   ]
  },
  {
   "cell_type": "code",
   "execution_count": 26,
   "metadata": {
    "collapsed": false
   },
   "outputs": [],
   "source": [
    "rows = []\n",
    "for row in lengths['rows']:\n",
    "    s = [item['v'] for item in row['f']]\n",
    "    rows.append(s)\n",
    "lengths =  rows"
   ]
  },
  {
   "cell_type": "code",
   "execution_count": 27,
   "metadata": {
    "collapsed": true
   },
   "outputs": [],
   "source": [
    "ls = [int(v[0]) for v in lengths]\n",
    "numbers = [int(v[1]) for v in lengths]"
   ]
  },
  {
   "cell_type": "code",
   "execution_count": 37,
   "metadata": {
    "collapsed": false
   },
   "outputs": [
    {
     "data": {
      "image/png": "[encoded data removed]",
      "text/plain": [
       "<matplotlib.figure.Figure at 0x10e2b89d0>"
      ]
     },
     "metadata": {},
     "output_type": "display_data"
    }
   ],
   "source": [
    "x = ls \n",
    "y = numbers\n",
    "fig = plt.figure()\n",
    "ax = fig.add_subplot(1,1,1)\n",
    "plt.scatter(np.log10(x), np.log10(y), alpha=.8)#, color = color)\n",
    "# logA = np.log10(x)\n",
    "# logB = np.log10(y)\n",
    "# coefficients = np.polyfit(logA, logB, 1)\n",
    "# polynomial = np.poly1d(coefficients)\n",
    "# ys = polynomial(np.log10(x))\n",
    "# slope, intercept, r_value, p_value, std_err = stats.linregress(logA, logB)\n",
    "# plt.scatter(np.log10(x), ys, color = 'red')\n",
    "\n",
    "\n",
    "plt.title(\"Number of Fishing Vessels by Length\")\n",
    "plt.xlabel('Log(Length in Meters)')\n",
    "plt.ylabel('Log(Number of vessels)')\n",
    "plt.savefig(\"Length.png\",bbox_inches='tight',dpi=150,transparent=True,pad_inches=.10)\n",
    "plt.show()"
   ]
  },
  {
   "cell_type": "markdown",
   "metadata": {},
   "source": [
    "## FAO database Numbers\n",
    "\n",
    "\n",
    "\n",
    "The FAO estimates that there are about \n",
    "- 4.7 million fishing vessels in the world \n",
    "- 2.7 million fishing vessels with motors\n",
    "\n",
    "Of the 2.7 million with motors:\n",
    "- 2.16 million are smaller than 12 meters (80 percent are smaller than 12 meters)\n",
    "- 540,000 are bigger than 12 meters (other 20 percent)\n",
    "- 64,000 are bigger than 24 meters \n",
    "\n",
    "All numbers are from the FAO (http://www.fao.org/3/a-i3740t.pdf FAO Yearbook 2014), except the last one, which is from  (McCauley et al. 2016)\n",
    "\n",
    "so, just for fun, let's say 5m = 2,160,000 + 2 million non-motorized fishing vessels\n",
    "and 15m = 500,000.\n",
    "\n",
    "According to McCauley et al, we are seeing 64% of the vessels bigger than 24m. If these vessels are distributed similarly to the rest of the distribution, they would be mostly concentrated in the smaller vessels. But because of AIS regulations, they are likely to be even *more* concentrated. Let's just add 40,000 (part of the <24 meters) + 36% of 64,000 to the 20 to 25 length = 40000+21000 = 60000"
   ]
  },
  {
   "cell_type": "code",
   "execution_count": 62,
   "metadata": {
    "collapsed": false
   },
   "outputs": [
    {
     "data": {
      "image/png": "[encoded data removed]",
      "text/plain": [
       "<matplotlib.figure.Figure at 0x10f418810>"
      ]
     },
     "metadata": {},
     "output_type": "display_data"
    }
   ],
   "source": [
    "x = ls \n",
    "y_new = [4.16*10**6,5*10**5, numbers[2]+60000]+numbers[3:]\n",
    "fig = plt.figure()\n",
    "ax = fig.add_subplot(1,1,1)\n",
    "plt.scatter(np.log10(x), np.log10(y_new), alpha=.8)#, color = color)\n",
    "# logA = np.log10(x)\n",
    "# logB = np.log10(y)\n",
    "# coefficients = np.polyfit(logA, logB, 1)\n",
    "# polynomial = np.poly1d(coefficients)\n",
    "# ys = polynomial(np.log10(x))\n",
    "# slope, intercept, r_value, p_value, std_err = stats.linregress(logA, logB)\n",
    "# plt.scatter(np.log10(x), ys, color = 'red')\n",
    "\n",
    "\n",
    "plt.title(\"Number of Fishing Vessels by Length, Including FAO Data\")\n",
    "plt.xlabel('Log(Length in Meters)')\n",
    "plt.ylabel('Log(Number of vessels)')\n",
    "plt.savefig(\"Length_with_FAO.png\",bbox_inches='tight',dpi=150,transparent=True,pad_inches=.10)\n",
    "plt.show()"
   ]
  },
  {
   "cell_type": "markdown",
   "metadata": {},
   "source": [
    "## What if fishing effort scales as the cube of the length?"
   ]
  },
  {
   "cell_type": "code",
   "execution_count": 67,
   "metadata": {
    "collapsed": false
   },
   "outputs": [
    {
     "name": "stdout",
     "output_type": "stream",
     "text": [
      "45 percent of effort is by boats bigger than 30m\n",
      "50 percent of fishing effort is by vessels with AIS\n"
     ]
    }
   ],
   "source": [
    "fishing_scale = 3\n",
    "\n",
    "effort = [l**fishing_scale for l in ls]\n",
    "\n",
    "# I don't belive in fishing vessels bigger than 150m\n",
    "effort_array = np.array(effort[:15])\n",
    "number_array = np.array(y_new[:15])\n",
    "number_array_ais = np.array(numbers[:15])\n",
    "tot = 0\n",
    "smaller_than_30 = 0\n",
    "ais = 0\n",
    "for e,n,a in zip(effort_array,number_array,number_array_ais):\n",
    "    tot+=e*n\n",
    "    if e**(1/float(fishing_scale))<30:\n",
    "        smaller_than_30 += e*n\n",
    "    ais += e*a\n",
    "print int(100*(1-smaller_than_30/tot)), \"percent of effort is by boats bigger than 30m\"\n",
    "print int(100*ais/tot), \"percent of fishing effort is by vessels with AIS\""
   ]
  },
  {
   "cell_type": "code",
   "execution_count": null,
   "metadata": {
    "collapsed": true
   },
   "outputs": [],
   "source": []
  }
 ],
 "metadata": {
  "kernelspec": {
   "display_name": "Python 2",
   "language": "python",
   "name": "python2"
  },
  "language_info": {
   "codemirror_mode": {
    "name": "ipython",
    "version": 2
   },
   "file_extension": ".py",
   "mimetype": "text/x-python",
   "name": "python",
   "nbconvert_exporter": "python",
   "pygments_lexer": "ipython2",
   "version": "2.7.3"
  }
 },
 "nbformat": 4,
 "nbformat_minor": 0
}
