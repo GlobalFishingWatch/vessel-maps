{
 "cells": [
  {
   "cell_type": "code",
   "execution_count": 2,
   "metadata": {
    "collapsed": false
   },
   "outputs": [],
   "source": [
    "import numpy as np\n",
    "import matplotlib.pyplot as plt\n",
    "from mpl_toolkits.basemap import Basemap\n",
    "import matplotlib\n",
    "from matplotlib import colors,colorbar\n",
    "import matplotlib\n",
    "%matplotlib inline\n",
    "import csv \n",
    "import math\n",
    "from math import radians, cos, sin, asin, sqrt\n",
    "import cPickle\n"
   ]
  },
  {
   "cell_type": "code",
   "execution_count": 3,
   "metadata": {
    "collapsed": true
   },
   "outputs": [],
   "source": [
    "cellsize = 1\n",
    "num_lons = 360/cellsize\n",
    "num_lats = 180/cellsize"
   ]
  },
  {
   "cell_type": "code",
   "execution_count": 4,
   "metadata": {
    "collapsed": false
   },
   "outputs": [],
   "source": [
    "def haversine(lon1, lat1, lon2, lat2):\n",
    "    \"\"\"\n",
    "    Calculate the great circle distance between two points \n",
    "    on the earth (specified in decimal degrees)\n",
    "    \"\"\"\n",
    "    # convert decimal degrees to radians \n",
    "    lon1, lat1, lon2, lat2 = map(radians, [lon1, lat1, lon2, lat2])\n",
    "\n",
    "    # haversine formula \n",
    "    dlon = lon2 - lon1 \n",
    "    dlat = lat2 - lat1 \n",
    "    a = sin(dlat/2)**2 + cos(lat1) * cos(lat2) * sin(dlon/2)**2\n",
    "    c = 2 * asin(sqrt(a)) \n",
    "    r = 6371 # Radius of earth in kilometers. Use 3956 for miles\n",
    "    return c * r\n",
    "\n",
    "def distance_between_boxes(lat_box_0,lon_box_0,lat_box_1,lon_box_1):\n",
    "    lat1 = lat_box_0*cellsize-90+cellsize/2.\n",
    "    lat2 = lat_box_1*cellsize-90+cellsize/2.\n",
    "    lon1 = lon_box_0*cellsize-180+cellsize/2.\n",
    "    lon2 = lon_box_1*cellsize-180+cellsize/2.\n",
    "    return haversine(lon1, lat1, lon2, lat2)\n",
    "\n"
   ]
  },
  {
   "cell_type": "code",
   "execution_count": 28,
   "metadata": {
    "collapsed": false
   },
   "outputs": [
    {
     "ename": "TypeError",
     "evalue": "unhashable type: 'list'",
     "output_type": "error",
     "traceback": [
      "\u001b[0;31m---------------------------------------------------------------------------\u001b[0m",
      "\u001b[0;31mTypeError\u001b[0m                                 Traceback (most recent call last)",
      "\u001b[0;32m<ipython-input-28-4214ec4de811>\u001b[0m in \u001b[0;36m<module>\u001b[0;34m()\u001b[0m\n\u001b[1;32m      1\u001b[0m \u001b[0mx\u001b[0m \u001b[0;34m=\u001b[0m \u001b[0;34m[\u001b[0m\u001b[0;34m[\u001b[0m\u001b[0;36m1\u001b[0m\u001b[0;34m,\u001b[0m\u001b[0;36m1\u001b[0m\u001b[0;34m]\u001b[0m\u001b[0;34m,\u001b[0m\u001b[0;34m[\u001b[0m\u001b[0;36m1\u001b[0m\u001b[0;34m,\u001b[0m\u001b[0;36m1\u001b[0m\u001b[0;34m]\u001b[0m\u001b[0;34m]\u001b[0m\u001b[0;34m\u001b[0m\u001b[0m\n\u001b[0;32m----> 2\u001b[0;31m \u001b[0mset\u001b[0m\u001b[0;34m(\u001b[0m\u001b[0mx\u001b[0m\u001b[0;34m)\u001b[0m\u001b[0;34m\u001b[0m\u001b[0m\n\u001b[0m",
      "\u001b[0;31mTypeError\u001b[0m: unhashable type: 'list'"
     ]
    }
   ],
   "source": [
    "x = [[1,1],[1,1]]\n",
    "set(x)"
   ]
  },
  {
   "cell_type": "code",
   "execution_count": 16,
   "metadata": {
    "collapsed": false
   },
   "outputs": [
    {
     "data": {
      "text/plain": [
       "(78.99098813452012, 101.00901186547988)"
      ]
     },
     "execution_count": 16,
     "metadata": {},
     "output_type": "execute_result"
    }
   ],
   "source": [
    "max(1,0)\n",
    "lat_box = 90\n",
    "satellite_radius = 1000\n",
    "111*math.sin(2*3.14/360*lat_box*cellsize)\n",
    "num_lats_to_count = satellite_radius /(111*math.sin(2*3.14/360*lat_box*cellsize))+ 2\n",
    "l_start = max(lat_box - num_lats_to_count, 0)\n",
    "l_end = min(lat_box + num_lats_to_count, num_lats -1)\n",
    "l_start, l_end"
   ]
  },
  {
   "cell_type": "code",
   "execution_count": 41,
   "metadata": {
    "collapsed": true
   },
   "outputs": [],
   "source": [
    "\n",
    "def make_grid_average(satellite_radius):\n",
    "    g_for_average = [ [[] for i in range(num_lons)] for k in range(num_lats)]\n",
    "    g_for_average5 = [ [[] for i in range(num_lons)] for k in range(num_lats)]\n",
    "    # g_for_average[lat_box][lon_box] -- a list of the other values we should average across\n",
    "    for lat_box in range(num_lats):\n",
    "        for lon_box in range(num_lons):\n",
    "            num_lats_to_count = satellite_radius / 111. + 2 \n",
    "            lt_start = int(max(lat_box - num_lats_to_count, 0))\n",
    "            lt_end = int(min(lat_box + num_lats_to_count, num_lats -1))\n",
    "            num_lons_to_count = satellite_radius / (111*math.sin(2*3.14/360*lat_box*cellsize)+.01)+ 2\n",
    "            ln_start = int(max(lon_box - num_lons_to_count, 0))\n",
    "            ln_end = int(min(lon_box + num_lons_to_count, num_lats -1))  \n",
    "            g_for_average = []\n",
    "            for i in range (lt_start,lt_end):\n",
    "                for k in range (ln_start,ln_end):\n",
    "                    dist = distance_between_boxes(i,k,lat_box,lon_box)\n",
    "                    if dist < satellite_radius:\n",
    "#                         scale_factor = (2*satellite_radius - dist)/(2*satellite_radius) \n",
    "                        # we want this to be 0 2*satellite_radius and 1 at the satellite_radius\n",
    "                        g_for_average.append([i,k])\n",
    "            five_degree_grid = []\n",
    "            for g in g_for_average:\n",
    "                lat_bin_5 = g[0]/5\n",
    "                lon_bin_5 = g[1]/5\n",
    "                if [lat_bin_5,lon_bin_5] not in five_degree_grid:\n",
    "                    five_degree_grid.append([lat_bin_5,lon_bin_5])\n",
    "            g_for_average5[lat_box][lon_box] = five_degree_grid\n",
    "    return g_for_average5\n"
   ]
  },
  {
   "cell_type": "code",
   "execution_count": 42,
   "metadata": {
    "collapsed": false
   },
   "outputs": [],
   "source": [
    "satellite_radius = 2778 # km\n",
    "grid_for_average = make_grid_average(satellite_radius)\n",
    "np.array(grid_for_average).dump(open('../../data/density/grid_for_average_1degree.npy', 'wb'))"
   ]
  },
  {
   "cell_type": "code",
   "execution_count": 44,
   "metadata": {
    "collapsed": false
   },
   "outputs": [
    {
     "data": {
      "text/plain": [
       "[[13, 34],\n",
       " [13, 35],\n",
       " [13, 33],\n",
       " [14, 33],\n",
       " [14, 34],\n",
       " [14, 35],\n",
       " [14, 32],\n",
       " [15, 32],\n",
       " [15, 33],\n",
       " [15, 34],\n",
       " [15, 35],\n",
       " [15, 31],\n",
       " [16, 31],\n",
       " [16, 32],\n",
       " [16, 33],\n",
       " [16, 34],\n",
       " [16, 35],\n",
       " [17, 31],\n",
       " [17, 32],\n",
       " [17, 33],\n",
       " [17, 34],\n",
       " [17, 35],\n",
       " [18, 31],\n",
       " [18, 32],\n",
       " [18, 33],\n",
       " [18, 34],\n",
       " [18, 35],\n",
       " [19, 31],\n",
       " [19, 32],\n",
       " [19, 33],\n",
       " [19, 34],\n",
       " [19, 35],\n",
       " [20, 31],\n",
       " [20, 32],\n",
       " [20, 33],\n",
       " [20, 34],\n",
       " [20, 35],\n",
       " [21, 32],\n",
       " [21, 33],\n",
       " [21, 34],\n",
       " [21, 35],\n",
       " [22, 33],\n",
       " [22, 34],\n",
       " [22, 35]]"
      ]
     },
     "execution_count": 44,
     "metadata": {},
     "output_type": "execute_result"
    }
   ],
   "source": [
    "grid_for_average[90][180]"
   ]
  },
  {
   "cell_type": "code",
   "execution_count": 43,
   "metadata": {
    "collapsed": false
   },
   "outputs": [
    {
     "name": "stdout",
     "output_type": "stream",
     "text": [
      "4485\n",
      "3025\n",
      "-180 18000 0.599730285657\n",
      "-178 17800 0.599741890455\n",
      "-176 17600 0.599776692645\n",
      "-174 17400 0.599834655624\n",
      "-172 17200 0.599915718408\n",
      "-170 17000 0.600019795671\n",
      "-168 16800 0.600146777793\n",
      "-166 16600 0.600296530924\n",
      "-164 16400 0.600468897068\n",
      "-162 16200 0.600663694171\n",
      "-160 16000 0.600880716231\n",
      "-158 15800 0.601119733425\n",
      "-156 15600 0.601380492245\n",
      "-154 15400 0.601662715657\n",
      "-152 15200 0.601966103265\n",
      "-150 15000 0.602290331505\n",
      "-148 14800 0.602635053846\n",
      "-146 14600 0.602999901009\n",
      "-144 14400 0.603384481208\n",
      "-142 14200 0.603788380405\n",
      "-140 14000 0.604211162579\n",
      "-138 13800 0.604652370026\n",
      "-136 13600 0.605111523667\n",
      "-134 13400 0.605588123374\n",
      "-132 13200 0.606081648332\n",
      "-130 13000 0.606591557401\n",
      "-128 12800 0.607117289512\n",
      "-126 12600 0.607658264083\n",
      "-124 12400 0.608213881453\n",
      "-122 12200 0.608783523342\n",
      "-120 12000 0.609366553334\n",
      "-118 11800 0.609962317384\n",
      "-116 11600 0.610570144345\n",
      "-114 11400 0.61118934653\n",
      "-112 11200 0.611819220284\n",
      "-110 11000 0.612459046599\n",
      "-108 10800 0.613108091741\n",
      "-106 10600 0.613765607915\n",
      "-104 10400 0.614430833946\n",
      "-102 10200 0.615102995999\n",
      "-100 10000 0.615781308316\n",
      "-98 9800 0.616464973991\n",
      "-96 9600 0.617153185766\n",
      "-94 9400 0.617845126857\n",
      "-92 9200 0.618539971813\n",
      "-90 9000 0.619236887395\n",
      "-88 8800 0.619935033491\n",
      "-86 8600 0.620633564057\n",
      "-84 8400 0.621331628081\n",
      "-82 8200 0.622028370581\n",
      "-80 8000 0.622722933626\n",
      "-78 7800 0.623414457386\n",
      "-76 7600 0.6241020812\n",
      "-74 7400 0.624784944677\n",
      "-72 7200 0.625462188817\n",
      "-70 7000 0.626132957151\n",
      "-68 6800 0.626796396906\n",
      "-66 6600 0.627451660185\n",
      "-64 6400 0.628097905166\n",
      "-62 6200 0.628734297319\n",
      "-60 6000 0.62936001063\n",
      "-58 5800 0.62997422884\n",
      "-56 5600 0.630576146693\n",
      "-54 5400 0.63116497119\n",
      "-52 5200 0.631739922841\n",
      "-50 5000 0.632300236927\n",
      "-48 4800 0.63284516475\n",
      "-46 4600 0.633373974883\n",
      "-44 4400 0.633885954408\n",
      "-42 4200 0.634380410148\n",
      "-40 4000 0.634856669869\n",
      "-38 3800 0.63531408348\n",
      "-36 3600 0.635752024199\n",
      "-34 3400 0.636169889693\n",
      "-32 3200 0.636567103193\n",
      "-30 3000 0.636943114569\n",
      "-28 2800 0.637297401371\n",
      "-26 2600 0.637629469826\n",
      "-24 2400 0.637938855796\n",
      "-22 2200 0.638225125675\n",
      "-20 2000 0.638487877252\n",
      "-18 1800 0.6387267405\n",
      "-16 1600 0.638941378323\n",
      "-14 1400 0.639131487229\n",
      "-12 1200 0.639296797951\n",
      "-10 1000 0.639437075992\n",
      "-8 800 0.639552122106\n",
      "-6 600 0.639641772707\n",
      "-4 400 0.639705900211\n",
      "-2 200 0.639744413295\n",
      "0 0 0.639757257091\n",
      "2 200 0.639744413295\n",
      "4 400 0.639705900211\n",
      "6 600 0.639641772707\n",
      "8 800 0.639552122106\n",
      "10 1000 0.639437075992\n",
      "12 1200 0.639296797951\n",
      "14 1400 0.639131487229\n",
      "16 1600 0.638941378323\n",
      "18 1800 0.6387267405\n",
      "20 2000 0.638487877252\n",
      "22 2200 0.638225125675\n",
      "24 2400 0.637938855796\n",
      "26 2600 0.637629469826\n",
      "28 2800 0.637297401371\n",
      "30 3000 0.636943114569\n",
      "32 3200 0.636567103193\n",
      "34 3400 0.636169889693\n",
      "36 3600 0.635752024199\n",
      "38 3800 0.63531408348\n",
      "40 4000 0.634856669869\n",
      "42 4200 0.634380410148\n",
      "44 4400 0.633885954408\n",
      "46 4600 0.633373974883\n",
      "48 4800 0.63284516475\n",
      "50 5000 0.632300236927\n",
      "52 5200 0.631739922841\n",
      "54 5400 0.63116497119\n",
      "56 5600 0.630576146693\n",
      "58 5800 0.62997422884\n",
      "60 6000 0.62936001063\n",
      "62 6200 0.628734297319\n",
      "64 6400 0.628097905166\n",
      "66 6600 0.627451660185\n",
      "68 6800 0.626796396906\n",
      "70 7000 0.626132957151\n",
      "72 7200 0.625462188817\n",
      "74 7400 0.624784944677\n",
      "76 7600 0.6241020812\n",
      "78 7800 0.623414457386\n",
      "80 8000 0.622722933626\n",
      "82 8200 0.622028370581\n",
      "84 8400 0.621331628081\n",
      "86 8600 0.620633564057\n",
      "88 8800 0.619935033491\n",
      "90 9000 0.619236887395\n",
      "92 9200 0.618539971813\n",
      "94 9400 0.617845126857\n",
      "96 9600 0.617153185766\n",
      "98 9800 0.616464973991\n",
      "100 10000 0.615781308316\n",
      "102 10200 0.615102995999\n",
      "104 10400 0.614430833946\n",
      "106 10600 0.613765607915\n",
      "108 10800 0.613108091741\n",
      "110 11000 0.612459046599\n",
      "112 11200 0.611819220284\n",
      "114 11400 0.61118934653\n",
      "116 11600 0.610570144345\n",
      "118 11800 0.609962317384\n",
      "120 12000 0.609366553334\n",
      "122 12200 0.608783523342\n",
      "124 12400 0.608213881453\n",
      "126 12600 0.607658264083\n",
      "128 12800 0.607117289512\n",
      "130 13000 0.606591557401\n",
      "132 13200 0.606081648332\n",
      "134 13400 0.605588123374\n",
      "136 13600 0.605111523667\n",
      "138 13800 0.604652370026\n",
      "140 14000 0.604211162579\n",
      "142 14200 0.603788380405\n",
      "144 14400 0.603384481208\n",
      "146 14600 0.602999901009\n",
      "148 14800 0.602635053846\n",
      "150 15000 0.602290331505\n",
      "152 15200 0.601966103265\n",
      "154 15400 0.601662715657\n",
      "156 15600 0.601380492245\n",
      "158 15800 0.601119733425\n",
      "160 16000 0.600880716231\n",
      "162 16200 0.600663694171\n",
      "164 16400 0.600468897068\n",
      "166 16600 0.600296530924\n",
      "168 16800 0.600146777793\n",
      "170 17000 0.600019795671\n",
      "172 17200 0.599915718408\n",
      "174 17400 0.599834655624\n",
      "176 17600 0.599776692645\n",
      "178 17800 0.599741890455\n"
     ]
    }
   ],
   "source": [
    "print len(grid_for_average[89][90])\n",
    "print (4*satellite_radius/200)**2\n",
    "for g in grid_for_average[89][90]:\n",
    "    if g[0]==80:\n",
    "        print 2*g[1]-180,200*abs(90-g[1]),g[2]"
   ]
  },
  {
   "cell_type": "code",
   "execution_count": 13,
   "metadata": {
    "collapsed": false
   },
   "outputs": [],
   "source": [
    "satellite_radius = 2000 # km\n",
    "grid_for_average_2000 = make_grid_average(satellite_radius)\n",
    "np.array(grid_for_average_2000).dump(open('../../data/density/grid_for_average_2degree_2000.npy', 'wb'))"
   ]
  },
  {
   "cell_type": "code",
   "execution_count": 14,
   "metadata": {
    "collapsed": true
   },
   "outputs": [],
   "source": [
    "satellite_radius = 1500 # km\n",
    "grid_for_average_1500 = make_grid_average(satellite_radius)\n",
    "np.array(grid_for_average_1500).dump(open('../../data/density/grid_for_average_2degree_1500.npy', 'wb'))"
   ]
  },
  {
   "cell_type": "code",
   "execution_count": 10,
   "metadata": {
    "collapsed": true
   },
   "outputs": [],
   "source": [
    "satellite_radius = 1000 # km\n",
    "grid_for_average_1000 = make_grid_average(satellite_radius)\n",
    "np.array(grid_for_average_1000).dump(open('../../data/density/grid_for_average_2degree_1000.npy', 'wb'))"
   ]
  },
  {
   "cell_type": "code",
   "execution_count": 11,
   "metadata": {
    "collapsed": true
   },
   "outputs": [],
   "source": [
    "satellite_radius = 500 # km\n",
    "grid_for_average_500 = make_grid_average(satellite_radius)\n",
    "np.array(grid_for_average_500).dump(open('../../data/density/grid_for_average_2degree_500.npy', 'wb'))"
   ]
  },
  {
   "cell_type": "code",
   "execution_count": 6,
   "metadata": {
    "collapsed": true
   },
   "outputs": [],
   "source": [
    "def get_area(lat):\n",
    "    lat_degree = 69 #miles\n",
    "    # Convert latitude and longitude to \n",
    "    # spherical coordinates in radians.\n",
    "    degrees_to_radians = math.pi/180.0        \n",
    "    # phi = 90 - latitude\n",
    "    phi = (lat+.05)*degrees_to_radians #plus 0.5 to get the middle\n",
    "    lon_degree = math.cos(phi)*69 #miles\n",
    "    # return 69*69*2.6\n",
    "    return  lat_degree*lon_degree* 2.58999 #miles to square km"
   ]
  },
  {
   "cell_type": "code",
   "execution_count": 7,
   "metadata": {
    "collapsed": false
   },
   "outputs": [],
   "source": [
    "sourcedir = \"../../data/density/\"\n",
    "filename = \"density_2015.csv\"\n",
    "\n",
    "\n",
    "vessel_days = np.zeros(shape=(num_lats,num_lons)) #2 degree by 2 degree grid\n",
    "\n",
    "with open(sourcedir + filename,'rU') as f:\n",
    "    reader = csv.DictReader(f, delimiter=',')\n",
    "    for row in reader:\n",
    "        lat = int(row['lat_bin'])\n",
    "        lon = int(row['lon_bin'])\n",
    "        if lat<900 and lat>-900 and lon>-1800 and lon<1800:\n",
    "            lat_index = (lat+900)/(cellsize*10)\n",
    "            lon_index = (lon+1800)/(cellsize*10)\n",
    "            days = int(row['number'])\n",
    "            #area = get_area(lat/10) # area of 1 by 1 degree at a given lat\n",
    "            vessel_days[lat_index][lon_index] += days/365. # vessels per 5x5 grid per day \n",
    "            # alternate math to get the amount per square km: (365* area*.1*.1)  #vessels per day per km\n",
    "\n"
   ]
  },
  {
   "cell_type": "code",
   "execution_count": 8,
   "metadata": {
    "collapsed": false
   },
   "outputs": [],
   "source": [
    "averages = np.zeros(shape=(num_lats,num_lons)) # 2 by 2 grid\n",
    "\n",
    "for i in range(num_lats):\n",
    "    for j in range(num_lons):\n",
    "        count = len(grid_for_average[i][j])\n",
    "        total = 0\n",
    "        for item in grid_for_average[i][j]:\n",
    "            total += vessel_days[item[0]][item[1]]*item[2]\n",
    "        averages[i][j]=total/4. \n",
    "        # divide by 4 because the satellite sees only 1/4 of the area that we're \n",
    "        #averaging over\n",
    "            \n",
    "        \n"
   ]
  },
  {
   "cell_type": "code",
   "execution_count": 9,
   "metadata": {
    "collapsed": false
   },
   "outputs": [
    {
     "data": {
      "image/png": "[encoded data removed]",
      "text/plain": [
       "<matplotlib.figure.Figure at 0x2c987cf10>"
      ]
     },
     "metadata": {},
     "output_type": "display_data"
    }
   ],
   "source": [
    "tm = 1000. #this is just to scale the the following... this makes the colormap\n",
    "\n",
    "\n",
    "\n",
    "colors = [[\"#FFFFFF\",0,0],\n",
    "          ['#894081', 5,5],\n",
    "          ['#338ACA',10,10],\n",
    "          ['#47AEC4',25,25],\n",
    "          ['#49A578',50,50],\n",
    "          ['#82B130',100,100],\n",
    "          ['#F8C728',250,250],\n",
    "          ['#EFA639',500,500],\n",
    "          ['#E58230',1000,1000]]\n",
    "                    \n",
    "          \n",
    "          \n",
    "cdict = { 'red':tuple(   (color[2]/tm, int(color[0][1:3],16)/256.0, int(color[0][1:3],16)/256.0) for color in colors ),\n",
    "          'green':tuple( (color[2]/tm, int(color[0][3:5],16)/256.0, int(color[0][3:5],16)/256.0) for color in colors ),\n",
    "          'blue':tuple(  (color[2]/tm, int(color[0][5:7],16)/256.0, int(color[0][5:7],16)/256.0) for color in colors )}\n",
    "\n",
    "\n",
    "tm = 1000.\n",
    "\n",
    "\n",
    "cdict2 = { 'red':tuple(   (color[2]/tm, int(color[0][1:3],16)/256.0, int(color[0][1:3],16)/256.0) for color in colors ),\n",
    "          'green':tuple( (color[2]/tm, int(color[0][3:5],16)/256.0, int(color[0][3:5],16)/256.0) for color in colors ),\n",
    "          'blue':tuple(  (color[2]/tm, int(color[0][5:7],16)/256.0, int(color[0][5:7],16)/256.0) for color in colors )}#,\n",
    "          #'alpha': ((0,0,0),(.00001,1,1),(1,1,1)) }\n",
    "\n",
    "\n",
    "\n",
    "'''#I left the following in just to show the format of the colormap -- it is a series of tuples\n",
    "cdict = {'red': ((0.0, 0.0, 0.0),\n",
    "                  (0.5, 1.0, 0.7),\n",
    "                  (1.0, 1.0, 1.0)),\n",
    "          'green': ((0.0, 0.0, 0.0),\n",
    "                    (0.5, 1.0, 0.0),\n",
    "                    (1.0, 1.0, 1.0)),\n",
    "          'blue': ((0.0, 0.0, 0.0),\n",
    "                   (0.5, 1.0, 0.0),\n",
    "                   (1.0, 0.5, 1.0))}\n",
    "'''\n",
    "my_cmap = matplotlib.colors.LinearSegmentedColormap('my_colormap',cdict,256)\n",
    "my_cmap.set_bad(alpha = 0.0)\n",
    "    \n",
    "my_cmap2 = matplotlib.colors.LinearSegmentedColormap('my_colormap',cdict2,256)\n",
    "my_cmap2.set_bad(alpha = 0.0)  \n",
    "\n",
    "firstlat = 90\n",
    "lastlat = -90\n",
    "firstlon = -180\n",
    "lastlon = 180\n",
    "scale = cellsize\n",
    "\n",
    "numlats = int((firstlat-lastlat)/scale+.5)\n",
    "numlons = int((lastlon-firstlon)/scale+.5)\n",
    "    \n",
    "lat_boxes = np.linspace(lastlat,firstlat,num=numlats,endpoint=False)\n",
    "lon_boxes = np.linspace(firstlon,lastlon,num=numlons,endpoint=False)\n",
    "\n",
    "fig = plt.figure()\n",
    "\n",
    "m = Basemap(llcrnrlat=lastlat, urcrnrlat=firstlat,\n",
    "          llcrnrlon=firstlon, urcrnrlon=lastlon, lat_ts=0, projection='mill',resolution=\"h\")\n",
    "\n",
    "m.drawmapboundary()\n",
    "m.drawcoastlines(linewidth=.2)\n",
    "#m.fillcontinents('#555555')#, lake_color, ax, zorder, alpha)\n",
    "\n",
    "\n",
    "x = np.linspace(-180, 180, 360/cellsize )\n",
    "y = np.linspace(lastlat, firstlat, (firstlat-lastlat)/cellsize)\n",
    "x, y = np.meshgrid(x, y)\n",
    "converted_x, converted_y = m(x, y)\n",
    "from matplotlib import colors,colorbar\n",
    "\n",
    "norm = colors.LogNorm(vmin=1, vmax=1000)\n",
    "\n",
    "m3 = 20\n",
    "\n",
    "m.pcolormesh(converted_x, converted_y, averages, norm=norm, vmin=1, vmax=m3**3)\n",
    "\n",
    "t = \"Vessels per Day Averaged over Satellite Footprint, 2015\"\n",
    "plt.title(t)\n",
    "\n",
    "# cbar = fig.colorbar(im)#, ticks=[-1, 0, 1])\n",
    "# theticks = [i*100 for i in range(10)]\n",
    "# cbar = fig.colorbar(im, cmap =my_cmap2, orientation='horizontal')\n",
    "\n",
    "ax = fig.add_axes([0.15, 0.1, 0.4, 0.02]) #x coordinate , \n",
    "#ax.patch.set_alpha(0.0)\n",
    "#ax.axis('off')\n",
    "# my_cmap=choose_cmap('reds')\n",
    "norm = colors.Normalize(vmin=0, vmax=1000)\n",
    "norm = colors.LogNorm(vmin=1, vmax=1000)\n",
    "lvls = np.logspace(0,3,7)\n",
    "\n",
    "cb = colorbar.ColorbarBase(ax,norm = norm,\n",
    "#                                     ticks=theticks,\n",
    "                                   orientation='horizontal', ticks=lvls)\n",
    "\n",
    "cb.ax.set_xticklabels([\"<1\" ,int(m3**.5), m3, int(m3**1.5), m3*m3,int(m3**2.5), str(int(m3**3))+\"+\"], fontsize=10)\n",
    "#cb.set_label('Vessels per Day Averaged Over Satellite Footprint',labelpad=-40, y=0.45)\n",
    "\n",
    "# plt.text(1.1, .15, 'Pixels with fewer than 20 boats per\\nday in 2014 are shown in gray', fontsize = 10)\n",
    "# plt.axis('off')\n",
    "\n",
    "\n",
    "\n",
    "plt.savefig(\"satellite_footprint2by2.png\",bbox_inches='tight',dpi=450,transparent=True,pad_inches=0)\n",
    "\n",
    "plt.rcParams[\"figure.figsize\"] = [12,8]\n",
    "\n",
    "plt.show()\n",
    "\n",
    "#plt.clf()"
   ]
  },
  {
   "cell_type": "code",
   "execution_count": 12,
   "metadata": {
    "collapsed": false
   },
   "outputs": [],
   "source": [
    "np.array(grid_for_average).dump(open('../../data/density/grid_for_average_2degree.npy', 'wb'))\n"
   ]
  },
  {
   "cell_type": "code",
   "execution_count": 11,
   "metadata": {
    "collapsed": false
   },
   "outputs": [],
   "source": [
    "f = open(\"../../data/density/average_satellite_density.csv\", \"w\")\n",
    "for lat_bin in range(num_lats):\n",
    "    for lon_bin in range(num_lons):\n",
    "        f.write(str(lat_bin)+\",\"+str(lon_bin)+\",\"+str(averages[lat_bin][lon_bin])+\"\\n\")\n",
    "f.close()"
   ]
  },
  {
   "cell_type": "code",
   "execution_count": null,
   "metadata": {
    "collapsed": true
   },
   "outputs": [],
   "source": []
  }
 ],
 "metadata": {
  "kernelspec": {
   "display_name": "Python 2",
   "language": "python",
   "name": "python2"
  },
  "language_info": {
   "codemirror_mode": {
    "name": "ipython",
    "version": 2
   },
   "file_extension": ".py",
   "mimetype": "text/x-python",
   "name": "python",
   "nbconvert_exporter": "python",
   "pygments_lexer": "ipython2",
   "version": "2.7.3"
  }
 },
 "nbformat": 4,
 "nbformat_minor": 0
}
