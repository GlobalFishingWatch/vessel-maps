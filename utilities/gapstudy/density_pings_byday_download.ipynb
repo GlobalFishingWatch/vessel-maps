{
 "cells": [
  {
   "cell_type": "markdown",
   "metadata": {},
   "source": [
    "# Download Vessel Counts by Day\n"
   ]
  },
  {
   "cell_type": "code",
   "execution_count": 4,
   "metadata": {
    "collapsed": false
   },
   "outputs": [],
   "source": [
    "import time\n",
    "import numpy as np\n",
    "import matplotlib.pyplot as plt\n",
    "from mpl_toolkits.basemap import Basemap\n",
    "from matplotlib import colors,colorbar\n",
    "%matplotlib inline\n",
    "import csv \n",
    "import math\n",
    "from math import radians, cos, sin, asin, sqrt\n",
    "from scipy import stats\n",
    "import math\n",
    "import cPickle "
   ]
  },
  {
   "cell_type": "code",
   "execution_count": 5,
   "metadata": {
    "collapsed": true
   },
   "outputs": [],
   "source": [
    "import bq  \n",
    "client = bq.Client.Get()"
   ]
  },
  {
   "cell_type": "code",
   "execution_count": 6,
   "metadata": {
    "collapsed": true
   },
   "outputs": [],
   "source": [
    "def Query(q):\n",
    "    t0 = time.time()\n",
    "    answer = client.ReadTableRows(client.Query(q)['configuration']['query']['destinationTable'])\n",
    "    print 'Query time: ' + str(time.time() - t0) + ' seconds.'\n",
    "    return answer"
   ]
  },
  {
   "cell_type": "code",
   "execution_count": 12,
   "metadata": {
    "collapsed": false
   },
   "outputs": [],
   "source": [
    "def query_date(thedate):\n",
    "    q = '''\n",
    "    SELECT\n",
    "      integer(FLOOR(first_lat*10)) lat_bin,\n",
    "      integer(FLOOR(first_lon*10)) lon_bin,\n",
    "      integer(FLOOR(avg_lat*10)) lat_bin_avg,\n",
    "      integer(FLOOR(avg_lon*10)) lon_bin_avg,\n",
    "      satellite_positions sat_positions,\n",
    "      terrestrial_positions terrestrial_positions,\n",
    "      positions_weighted,\n",
    "      avg_speed,\n",
    "      slow_pings,\n",
    "      mmsi\n",
    "    FROM\n",
    "    (SELECT\n",
    "      mmsi,\n",
    "      SUM( CASE WHEN speed = 0 OR (speed<=2 AND type IN (18, 19)) THEN 180 \n",
    "         WHEN (speed > 0 AND speed <14 AND type IN (1,2,3)AND turn = 0 )\n",
    "             OR (speed>2 AND type IN (18,19)) THEN 10 \n",
    "          when speed>0 and speed<14 and type in (1,2,3) and turn !=0 then 3.3\n",
    "          when speed>=14 and speed<23 and type in (1,2,3) and turn = 0 then 6\n",
    "          when type in (1,2,3) and (speed>=23 or (speed>=14 and turn !=0)) then 2\n",
    "          END) positions_weighted,\n",
    "       first(lat) first_lat,\n",
    "       first(lon) first_lon,\n",
    "       avg(lat) avg_lat,\n",
    "       avg(lon) avg_lon,\n",
    "       max(lat) max_lat,\n",
    "       min(lat) min_lat,\n",
    "       max(lon) max_lon,\n",
    "       min(lon) min_lon,\n",
    "       avg(speed) avg_speed,\n",
    "       sum(if( (speed=0 and type in (1,2,3)) or (speed<2 and type in (18,19)),1,0 )) slow_pings,\n",
    "       sum( if(REGEXP_REPLACE(tagblock_station, 'u', '') IN ('rORBCOMM000',\n",
    "            'rORBCOMM01',\n",
    "            'rORBCOMM008',\n",
    "            'rORBCOMM009',\n",
    "            'rORBCOMM010'),1,0)) terrestrial_positions,\n",
    "       sum( if(REGEXP_REPLACE(tagblock_station, 'u', '') not IN ('rORBCOMM000',\n",
    "            'rORBCOMM01',\n",
    "            'rORBCOMM008',\n",
    "            'rORBCOMM009',\n",
    "            'rORBCOMM010'),1,0)) satellite_positions,       \n",
    "    FROM\n",
    "      [pipeline_normalize.'''+thedate+''']\n",
    "    WHERE\n",
    "      type IN (1,2,3,18,19) and lat is not null and lon is not null and speed is not null and turn is not null\n",
    "    group by mmsi\n",
    "    )\n",
    "      where\n",
    "      max_lat - min_lat <5\n",
    "      AND (max_lon - min_lon < 10\n",
    "        OR first_lon > 170\n",
    "        OR first_lon < -170)\n",
    "      AND mmsi IN (select mmsi from\n",
    "    [scratch_david_gapanalysis.good_mmsi_2015_1000pings])\n",
    "    '''\n",
    "\n",
    "    positions = Query(q)\n",
    "    cPickle.dump(positions, open('../../data/density/'+thedate+'_v2_vessels.p', 'wb')) "
   ]
  },
  {
   "cell_type": "code",
   "execution_count": 15,
   "metadata": {
    "collapsed": false
   },
   "outputs": [
    {
     "name": "stdout",
     "output_type": "stream",
     "text": [
      "20150301\n",
      "Waiting on bqjob_rc5d1d36a0673555_00000153a58cea75_85 ... (14s) Current status: DONE   \n",
      "Query time: 34.4649701118 seconds.\n",
      "20150302\n",
      "Waiting on bqjob_r129120c3ab62cee1_00000153a58d78fb_86 ... (15s) Current status: DONE   \n",
      "Query time: 52.4378290176 seconds.\n",
      "20150303\n",
      "Waiting on bqjob_r1fd315b1681a4fad_00000153a58e54d4_87 ... (15s) Current status: DONE   \n",
      "Query time: 46.6302821636 seconds.\n",
      "20150304\n",
      "Waiting on bqjob_r50de679d8e60065a_00000153a58f19ae_88 ... (23s) Current status: DONE   \n",
      "Query time: 59.0982401371 seconds.\n",
      "20150305\n",
      "Waiting on bqjob_r4240430d55b85765_00000153a5900f9c_89 ... (15s) Current status: DONE   \n",
      "Query time: 47.1999361515 seconds.\n",
      "20150306\n",
      "Waiting on bqjob_r2e32496f8d58ab02_00000153a590d7dc_90 ... (14s) Current status: DONE   \n",
      "Query time: 47.9087018967 seconds.\n",
      "20150307\n",
      "Waiting on bqjob_r4b5766a43c5a75f1_00000153a591a1c4_91 ... (14s) Current status: DONE   \n",
      "Query time: 45.9500920773 seconds.\n",
      "20150308\n",
      "Waiting on bqjob_recf75325fc14252_00000153a5926412_92 ... (9s) Current status: DONE   \n",
      "Query time: 39.3963389397 seconds.\n",
      "20150309\n",
      "Waiting on bqjob_r547ae8324c4e437b_00000153a5930c50_93 ... (15s) Current status: DONE   \n",
      "Query time: 45.863850832 seconds.\n",
      "20150310\n",
      "Waiting on bqjob_r2213d2b35262c115_00000153a593ce07_94 ... (9s) Current status: DONE   \n",
      "Query time: 41.4206161499 seconds.\n",
      "20150311\n",
      "Waiting on bqjob_r63f4d640acfe9c44_00000153a5947f6c_95 ... (15s) Current status: DONE   \n",
      "Query time: 48.2355818748 seconds.\n",
      "20150312\n",
      "Waiting on bqjob_r3cba61b0d9b2e1ed_00000153a5954af7_96 ... (14s) Current status: DONE   \n",
      "Query time: 50.681634903 seconds.\n",
      "20150313\n",
      "Waiting on bqjob_r29e67e552a1282e0_00000153a5961fd3_97 ... (9s) Current status: DONE   \n",
      "Query time: 41.1331131458 seconds.\n",
      "20150314\n",
      "Waiting on bqjob_r1cdaf22456f938ab_00000153a596ce38_98 ... (14s) Current status: DONE   \n",
      "Query time: 46.5095090866 seconds.\n",
      "20150315\n",
      "Waiting on bqjob_r511c3b29f5a7812c_00000153a59793c1_99 ... (9s) Current status: DONE   \n",
      "Query time: 42.8878390789 seconds.\n",
      "20150316\n",
      "Waiting on bqjob_r3909d21ca7cc0b68_00000153a5984898_100 ... (9s) Current status: DONE   \n",
      "Query time: 40.8973751068 seconds.\n",
      "20150317\n",
      "Waiting on bqjob_r1c2ee0975e833c77_00000153a598f6cc_101 ... (9s) Current status: DONE   \n",
      "Query time: 41.1956939697 seconds.\n",
      "20150318\n",
      "Waiting on bqjob_rd71bbf6431d4a12_00000153a599a811_102 ... (23s) Current status: DONE   \n",
      "Query time: 55.6452720165 seconds.\n",
      "20150319\n",
      "Waiting on bqjob_r5e31245da9309b94_00000153a59a9387_103 ... (14s) Current status: DONE   \n",
      "Query time: 44.7022919655 seconds.\n",
      "20150320\n",
      "Waiting on bqjob_r64eea6c8034330ab_00000153a59b5476_104 ... (9s) Current status: DONE   \n",
      "Query time: 39.9983961582 seconds.\n",
      "20150321\n",
      "Waiting on bqjob_r1926863dd570874d_00000153a59c06bd_105 ... (23s) Current status: DONE   \n",
      "Query time: 53.2937009335 seconds.\n",
      "20150322\n",
      "Waiting on bqjob_r415ee3f2ba13943e_00000153a59ced1c_106 ... (23s) Current status: DONE   \n",
      "Query time: 60.2540500164 seconds.\n",
      "20150323\n",
      "Waiting on bqjob_r2f2aa7e44fd42dcb_00000153a59e025b_107 ... (15s) Current status: DONE   \n",
      "Query time: 54.9108281136 seconds.\n",
      "20150324\n",
      "Waiting on bqjob_r7174dc15140ac735_00000153a59f07ce_108 ... (10s) Current status: DONE   \n",
      "Query time: 47.5314400196 seconds.\n",
      "20150325\n",
      "Waiting on bqjob_r1d00a8fe0604f6ce_00000153a59ff505_109 ... (15s) Current status: DONE   \n",
      "Query time: 54.947081089 seconds.\n",
      "20150326\n",
      "Waiting on bqjob_r79f4b3d3bdf6e616_00000153a5a10ed1_110 ... (15s) Current status: DONE   \n",
      "Query time: 56.4082648754 seconds.\n",
      "20150327\n",
      "Waiting on bqjob_r5c3af3c53381e63f_00000153a5a21e85_111 ... (10s) Current status: DONE   \n",
      "Query time: 50.2303299904 seconds.\n",
      "20150328\n",
      "Waiting on bqjob_r3d4a7b70ab7c1c8c_00000153a5a324cf_112 ... (15s) Current status: DONE   \n",
      "Query time: 72.321543932 seconds.\n",
      "20150329\n",
      "Waiting on bqjob_r6c6d6b7cfee9af6b_00000153a5a497aa_113 ... (15s) Current status: DONE   \n",
      "Query time: 60.1116950512 seconds.\n",
      "20150330\n",
      "Waiting on bqjob_r46a832e11d1f3ec8_00000153a5a5bdf4_114 ... (15s) Current status: DONE   \n",
      "Query time: 54.5713460445 seconds.\n",
      "20150331\n",
      "Waiting on bqjob_r588477d7222997e_00000153a5a6cdf3_115 ... (15s) Current status: DONE   \n",
      "Query time: 55.8961420059 seconds.\n"
     ]
    }
   ],
   "source": [
    "for i in range(1,32):\n",
    "    thedate = \"201503\"\n",
    "    if i<10:\n",
    "        thedate += \"0\"+str(i)\n",
    "    else:\n",
    "        thedate += str(i)\n",
    "    print thedate\n",
    "    query_date(thedate)\n",
    "    "
   ]
  },
  {
   "cell_type": "code",
   "execution_count": 16,
   "metadata": {
    "collapsed": false
   },
   "outputs": [
    {
     "name": "stdout",
     "output_type": "stream",
     "text": [
      "20150101\n",
      "20150102\n",
      "20150103\n",
      "20150104\n",
      "20150105\n",
      "20150106\n"
     ]
    }
   ],
   "source": [
    "import csv\n",
    "for i in range(1,7):\n",
    "    thedate = \"201501\"\n",
    "    if i<10:\n",
    "        thedate += \"0\"+str(i)\n",
    "    else:\n",
    "        thedate += str(i)\n",
    "    print thedate   \n",
    "    positions = cPickle.load(open('../../data/density/'+thedate+'_v2_vessels.p', 'rb'))\n",
    "    with open('../../data/density/'+thedate+'_v2_vessels.csv', 'wb') as f:\n",
    "        writer = csv.writer(f)\n",
    "        writer.writerow([\"lat_bin\",\"lon_bin\",\"lat_bin_avg\",\"lon_bin_avg\",\"sat_positions\",\n",
    "                         \"terrestrial_positions\",\"positions_weighted\",\n",
    "                        \"avg_speed\",\"slow_pings\",\"mmsi\"])\n",
    "        writer.writerows(positions)"
   ]
  },
  {
   "cell_type": "code",
   "execution_count": null,
   "metadata": {
    "collapsed": true
   },
   "outputs": [],
   "source": []
  }
 ],
 "metadata": {
  "kernelspec": {
   "display_name": "Python 2",
   "language": "python",
   "name": "python2"
  },
  "language_info": {
   "codemirror_mode": {
    "name": "ipython",
    "version": 2
   },
   "file_extension": ".py",
   "mimetype": "text/x-python",
   "name": "python",
   "nbconvert_exporter": "python",
   "pygments_lexer": "ipython2",
   "version": "2.7.3"
  }
 },
 "nbformat": 4,
 "nbformat_minor": 0
}
