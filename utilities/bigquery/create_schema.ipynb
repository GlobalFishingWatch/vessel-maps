{
 "cells": [
  {
   "cell_type": "markdown",
   "metadata": {
    "collapsed": false
   },
   "source": [
    "Example Scheme:\n",
    "\n",
    "[{\n",
    "    \"name\": \"kind\",\n",
    "    \"mode\": \"nullable\",\n",
    "    \"type\": \"string\"\n",
    "  },\n",
    "  {\n",
    "    \"name\": \"fullName\",\n",
    "    \"type\": \"string\",\n",
    "    \"mode\": \"required\"\n",
    "  },\n",
    "  {\n",
    "    \"name\": \"age\",\n",
    "    \"type\": \"integer\",\n",
    "    \"mode\": \"nullable\"\n",
    "  },\n",
    "  {\n",
    "    \"name\": \"gender\",\n",
    "    \"type\": \"string\",\n",
    "    \"mode\": \"nullable\"\n",
    "  },\n",
    "  { \"name\": \"phoneNumber\",\n",
    "    \"type\": \"record\",\n",
    "    \"mode\": \"nullable\",\n",
    "    \"fields\": [\n",
    "    {\n",
    "       \"name\": \"areaCode\",\n",
    "       \"type\": \"integer\",\n",
    "       \"mode\": \"nullable\"\n",
    "    },\n",
    "    {\n",
    "       \"name\": \"number\",\n",
    "       \"type\": \"integer\",\n",
    "       \"mode\": \"nullable\"\n",
    "    }\n",
    "   ]\n",
    "  },\n",
    "  {\n",
    "    \"name\": \"children\",\n",
    "    \"type\": \"record\",\n",
    "    \"mode\": \"repeated\",\n",
    "    \"fields\": [\n",
    "    {\n",
    "       \"name\": \"name\",\n",
    "       \"type\": \"string\",\n",
    "       \"mode\": \"nullable\"\n",
    "    },\n",
    "    {\n",
    "       \"name\": \"gender\",\n",
    "       \"type\": \"string\",\n",
    "       \"mode\": \"nullable\"\n",
    "    },\n",
    "    {\n",
    "       \"name\": \"age\",\n",
    "       \"type\": \"integer\",\n",
    "       \"mode\": \"nullable\"\n",
    "    }\n",
    "   ]\n",
    "  },\n",
    "  {\n",
    "    \"name\": \"citiesLived\",\n",
    "    \"type\": \"record\",\n",
    "    \"mode\": \"repeated\",\n",
    "    \"fields\": [\n",
    "    {\n",
    "       \"name\": \"place\",\n",
    "       \"type\": \"string\",\n",
    "       \"mode\": \"nullable\"\n",
    "    },\n",
    "    {\n",
    "       \"name\": \"yearsLived\",\n",
    "       \"type\": \"integer\",\n",
    "       \"mode\": \"repeated\"\n",
    "    }\n",
    "   ]\n",
    "  }\n",
    "]\n",
    "\n"
   ]
  },
  {
   "cell_type": "code",
   "execution_count": 2,
   "metadata": {
    "collapsed": false
   },
   "outputs": [],
   "source": [
    "import json\n",
    "od = json.loads('''{\"mmsi\": 411041797, \"labels\": {\"sublabel\": {\"max_label\": \"Squid\", \"label_scores\": {\"Cargo\": 1.49017853612321e-09, \"Supply\": 1.202220656359998e-09, \"Sailing\": 1.2120705550344724e-09, \"Trawlers\": 1.2140348726319417e-09, \"Seismic vessel\": 1.237318580926683e-09, \"Set gillnets\": 1.194789045477762e-09, \"Set longlines\": 1.194789045477762e-09, \"Squid\": 0.9999995231628418, \"Motor passenger\": 1.1965610724473663e-09, \"Reefer\": 4.342152806202648e-07, \"Pole and line\": 1.5954383369987113e-09, \"Purse seines\": 1.3982492941266855e-09, \"Pots and traps\": 1.194789045477762e-09, \"Drifting longlines\": 1.4433721995388282e-09, \"Tanker\": 3.244188695461503e-09, \"Pilot\": 1.194793597392163e-09, \"Tug\": 1.19712029178487e-09, \"Trollers\": 1.194789045477762e-09}, \"max_label_probability\": 0.9999995231628418, \"name\": \"Vessel detailed class\"}, \"length\": {\"name\": \"Vessel length regression\", \"value\": 28.348167419433594}, \"is_fishing\": {\"max_label\": \"Fishing\", \"label_scores\": {\"Fishing\": 0.9995298385620117, \"Non-fishing\": 0.00047023396473377943}, \"max_label_probability\": 0.9995298385620117, \"name\": \"Fishing\"}, \"label\": {\"max_label\": \"Squid\", \"label_scores\": {\"Passenger\": 1.463510534982504e-09, \"Cargo/Tanker\": 5.384665602292671e-09, \"Trawlers\": 1.4110513868459407e-09, \"Seismic vessel\": 1.7059856860512923e-09, \"Pole and line\": 3.6103113831842393e-09, \"Fixed gear\": 1.3594144698814148e-09, \"Squid\": 0.9999984502792358, \"Reefer\": 1.5216498923109611e-06, \"Purse seines\": 1.9657095950975645e-09, \"Drifting longlines\": 3.154397631988104e-09, \"Tug/Pilot/Supply\": 1.36162026098674e-09, \"Trollers\": 1.3594196879296305e-09}, \"max_label_probability\": 0.9999984502792358, \"name\": \"Vessel class\"}}, \"start_time\": \"2013-01-01T00:00:00\", \"end_time\": \"2013-07-01T00:00:00\"}''')"
   ]
  },
  {
   "cell_type": "code",
   "execution_count": 55,
   "metadata": {
    "collapsed": false,
    "scrolled": true
   },
   "outputs": [
    {
     "name": "stdout",
     "output_type": "stream",
     "text": [
      "line = line.replace(\"Seismic vessel\",\"Seismic_vessel\")\n",
      "line = line.replace(\"Set gillnets\",\"Set_gillnets\")\n",
      "line = line.replace(\"Set longlines\",\"Set_longlines\")\n",
      "line = line.replace(\"Motor passenger\",\"Motor_passenger\")\n",
      "line = line.replace(\"Pole and line\",\"Pole_and_line\")\n",
      "line = line.replace(\"Purse seines\",\"Purse_seines\")\n",
      "line = line.replace(\"Pots and traps\",\"Pots_and_traps\")\n",
      "line = line.replace(\"Drifting longlines\",\"Drifting_longlines\")\n",
      "line = line.replace(\"Non-fishing\",\"Non_fishing\")\n",
      "line = line.replace(\"Cargo/Tanker\",\"Cargo_Tanker\")\n",
      "line = line.replace(\"Seismic vessel\",\"Seismic_vessel\")\n",
      "line = line.replace(\"Pole and line\",\"Pole_and_line\")\n",
      "line = line.replace(\"Fixed gear\",\"Fixed_gear\")\n",
      "line = line.replace(\"Purse seines\",\"Purse_seines\")\n",
      "line = line.replace(\"Drifting longlines\",\"Drifting_longlines\")\n",
      "line = line.replace(\"Tug/Pilot/Supply\",\"Tug_Pilot_Supply\")\n"
     ]
    }
   ],
   "source": [
    "schema = []\n",
    "\n",
    "the_type = {'int':'integer','dict':'record','float':'float','unicode':'string'}\n",
    "the_mode = {'int':'nullable','dict':'repeated','float':'nullable','unicode':'nullable'}\n",
    "\n",
    "def get_fields(d):\n",
    "    sub_schema = []\n",
    "    for o in d:\n",
    "        v = get_field(o,d)\n",
    "        sub_schema.append(v)\n",
    "    return sub_schema\n",
    "\n",
    "\n",
    "def get_field(o, od):\n",
    "    v = {}\n",
    "    name = o.replace(\" \",\"_\").replace(\"-\",\"_\").replace(\"/\",\"_\")\n",
    "    if \" \" in o or \"-\" in o or '/' in o:\n",
    "        print 'line = line.replace(\"{}\",\"{}\")'.format(o,name)\n",
    "    the_class = od[o].__class__.__name__\n",
    "    tt = the_type[the_class]\n",
    "    tm = the_mode[the_class]    \n",
    "    v['name'] = name\n",
    "    v['type'] = tt\n",
    "    v['mode'] = tm\n",
    "    if the_class == 'dict':\n",
    "        v['fields'] = get_fields(od[o])\n",
    "    return v\n",
    "\n",
    "for o in od:\n",
    "    ve = get_field(o,od)    \n",
    "    schema.append(ve)\n",
    "            \n",
    "            \n",
    "#     if isinstance(od[o], dict):\n",
    "        \n"
   ]
  },
  {
   "cell_type": "code",
   "execution_count": 50,
   "metadata": {
    "collapsed": false
   },
   "outputs": [
    {
     "data": {
      "text/plain": [
       "[{'mode': 'nullable', 'name': u'mmsi', 'type': 'integer'},\n",
       " {'fields': [{'fields': [{'mode': 'nullable',\n",
       "      'name': u'max_label',\n",
       "      'type': 'string'},\n",
       "     {'fields': [{'mode': 'nullable', 'name': u'Cargo', 'type': 'float'},\n",
       "       {'mode': 'nullable', 'name': u'Squid', 'type': 'float'},\n",
       "       {'mode': 'nullable', 'name': u'Sailing', 'type': 'float'},\n",
       "       {'mode': 'nullable', 'name': u'Trawlers', 'type': 'float'},\n",
       "       {'mode': 'nullable', 'name': u'Seismic_vessel', 'type': 'float'},\n",
       "       {'mode': 'nullable', 'name': u'Set_gillnets', 'type': 'float'},\n",
       "       {'mode': 'nullable', 'name': u'Trollers', 'type': 'float'},\n",
       "       {'mode': 'nullable', 'name': u'Set_longlines', 'type': 'float'},\n",
       "       {'mode': 'nullable', 'name': u'Supply', 'type': 'float'},\n",
       "       {'mode': 'nullable', 'name': u'Motor_passenger', 'type': 'float'},\n",
       "       {'mode': 'nullable', 'name': u'Reefer', 'type': 'float'},\n",
       "       {'mode': 'nullable', 'name': u'Pole_and_line', 'type': 'float'},\n",
       "       {'mode': 'nullable', 'name': u'Purse_seines', 'type': 'float'},\n",
       "       {'mode': 'nullable', 'name': u'Pots_and_traps', 'type': 'float'},\n",
       "       {'mode': 'nullable', 'name': u'Drifting_longlines', 'type': 'float'},\n",
       "       {'mode': 'nullable', 'name': u'Tanker', 'type': 'float'},\n",
       "       {'mode': 'nullable', 'name': u'Tug', 'type': 'float'},\n",
       "       {'mode': 'nullable', 'name': u'Pilot', 'type': 'float'}],\n",
       "      'mode': 'repeated',\n",
       "      'name': u'label_scores',\n",
       "      'type': 'record'},\n",
       "     {'mode': 'nullable', 'name': u'max_label_probability', 'type': 'float'},\n",
       "     {'mode': 'nullable', 'name': u'name', 'type': 'string'}],\n",
       "    'mode': 'repeated',\n",
       "    'name': u'sublabel',\n",
       "    'type': 'record'},\n",
       "   {'fields': [{'mode': 'nullable', 'name': u'name', 'type': 'string'},\n",
       "     {'mode': 'nullable', 'name': u'value', 'type': 'float'}],\n",
       "    'mode': 'repeated',\n",
       "    'name': u'length',\n",
       "    'type': 'record'},\n",
       "   {'fields': [{'mode': 'nullable', 'name': u'max_label', 'type': 'string'},\n",
       "     {'fields': [{'mode': 'nullable', 'name': u'Fishing', 'type': 'float'},\n",
       "       {'mode': 'nullable', 'name': u'Non_fishing', 'type': 'float'}],\n",
       "      'mode': 'repeated',\n",
       "      'name': u'label_scores',\n",
       "      'type': 'record'},\n",
       "     {'mode': 'nullable', 'name': u'max_label_probability', 'type': 'float'},\n",
       "     {'mode': 'nullable', 'name': u'name', 'type': 'string'}],\n",
       "    'mode': 'repeated',\n",
       "    'name': u'is_fishing',\n",
       "    'type': 'record'},\n",
       "   {'fields': [{'mode': 'nullable', 'name': u'max_label', 'type': 'string'},\n",
       "     {'fields': [{'mode': 'nullable', 'name': u'Passenger', 'type': 'float'},\n",
       "       {'mode': 'nullable', 'name': u'Cargo_Tanker', 'type': 'float'},\n",
       "       {'mode': 'nullable', 'name': u'Trawlers', 'type': 'float'},\n",
       "       {'mode': 'nullable', 'name': u'Seismic_vessel', 'type': 'float'},\n",
       "       {'mode': 'nullable', 'name': u'Pole_and_line', 'type': 'float'},\n",
       "       {'mode': 'nullable', 'name': u'Fixed_gear', 'type': 'float'},\n",
       "       {'mode': 'nullable', 'name': u'Squid', 'type': 'float'},\n",
       "       {'mode': 'nullable', 'name': u'Reefer', 'type': 'float'},\n",
       "       {'mode': 'nullable', 'name': u'Purse_seines', 'type': 'float'},\n",
       "       {'mode': 'nullable', 'name': u'Drifting_longlines', 'type': 'float'},\n",
       "       {'mode': 'nullable', 'name': u'Trollers', 'type': 'float'},\n",
       "       {'mode': 'nullable', 'name': u'Tug_Pilot_Supply', 'type': 'float'}],\n",
       "      'mode': 'repeated',\n",
       "      'name': u'label_scores',\n",
       "      'type': 'record'},\n",
       "     {'mode': 'nullable', 'name': u'max_label_probability', 'type': 'float'},\n",
       "     {'mode': 'nullable', 'name': u'name', 'type': 'string'}],\n",
       "    'mode': 'repeated',\n",
       "    'name': u'label',\n",
       "    'type': 'record'}],\n",
       "  'mode': 'repeated',\n",
       "  'name': u'labels',\n",
       "  'type': 'record'},\n",
       " {'mode': 'nullable', 'name': u'start_time', 'type': 'string'},\n",
       " {'mode': 'nullable', 'name': u'end_time', 'type': 'string'}]"
      ]
     },
     "execution_count": 50,
     "metadata": {},
     "output_type": "execute_result"
    }
   ],
   "source": [
    "schema"
   ]
  },
  {
   "cell_type": "code",
   "execution_count": 47,
   "metadata": {
    "collapsed": false
   },
   "outputs": [],
   "source": [
    "with open(\"data_schema.json\", 'w') as f:\n",
    "    f.write(json.dumps(schema))"
   ]
  },
  {
   "cell_type": "code",
   "execution_count": 48,
   "metadata": {
    "collapsed": false
   },
   "outputs": [
    {
     "data": {
      "text/plain": [
       "{u'end_time': u'2013-07-01T00:00:00',\n",
       " u'labels': {u'is_fishing': {u'label_scores': {u'Fishing': 0.9995298385620117,\n",
       "    u'Non-fishing': 0.00047023396473377943},\n",
       "   u'max_label': u'Fishing',\n",
       "   u'max_label_probability': 0.9995298385620117,\n",
       "   u'name': u'Fishing'},\n",
       "  u'label': {u'label_scores': {u'Cargo/Tanker': 5.384665602292671e-09,\n",
       "    u'Drifting longlines': 3.154397631988104e-09,\n",
       "    u'Fixed gear': 1.3594144698814148e-09,\n",
       "    u'Passenger': 1.463510534982504e-09,\n",
       "    u'Pole and line': 3.6103113831842393e-09,\n",
       "    u'Purse seines': 1.9657095950975645e-09,\n",
       "    u'Reefer': 1.5216498923109611e-06,\n",
       "    u'Seismic vessel': 1.7059856860512923e-09,\n",
       "    u'Squid': 0.9999984502792358,\n",
       "    u'Trawlers': 1.4110513868459407e-09,\n",
       "    u'Trollers': 1.3594196879296305e-09,\n",
       "    u'Tug/Pilot/Supply': 1.36162026098674e-09},\n",
       "   u'max_label': u'Squid',\n",
       "   u'max_label_probability': 0.9999984502792358,\n",
       "   u'name': u'Vessel class'},\n",
       "  u'length': {u'name': u'Vessel length regression',\n",
       "   u'value': 28.348167419433594},\n",
       "  u'sublabel': {u'label_scores': {u'Cargo': 1.49017853612321e-09,\n",
       "    u'Drifting longlines': 1.4433721995388282e-09,\n",
       "    u'Motor passenger': 1.1965610724473663e-09,\n",
       "    u'Pilot': 1.194793597392163e-09,\n",
       "    u'Pole and line': 1.5954383369987113e-09,\n",
       "    u'Pots and traps': 1.194789045477762e-09,\n",
       "    u'Purse seines': 1.3982492941266855e-09,\n",
       "    u'Reefer': 4.342152806202648e-07,\n",
       "    u'Sailing': 1.2120705550344724e-09,\n",
       "    u'Seismic vessel': 1.237318580926683e-09,\n",
       "    u'Set gillnets': 1.194789045477762e-09,\n",
       "    u'Set longlines': 1.194789045477762e-09,\n",
       "    u'Squid': 0.9999995231628418,\n",
       "    u'Supply': 1.202220656359998e-09,\n",
       "    u'Tanker': 3.244188695461503e-09,\n",
       "    u'Trawlers': 1.2140348726319417e-09,\n",
       "    u'Trollers': 1.194789045477762e-09,\n",
       "    u'Tug': 1.19712029178487e-09},\n",
       "   u'max_label': u'Squid',\n",
       "   u'max_label_probability': 0.9999995231628418,\n",
       "   u'name': u'Vessel detailed class'}},\n",
       " u'mmsi': 411041797,\n",
       " u'start_time': u'2013-01-01T00:00:00'}"
      ]
     },
     "execution_count": 48,
     "metadata": {},
     "output_type": "execute_result"
    }
   ],
   "source": [
    "od"
   ]
  },
  {
   "cell_type": "code",
   "execution_count": 1,
   "metadata": {
    "collapsed": false
   },
   "outputs": [],
   "source": [
    "with open('vessel-classification-all_v2.json','w') as big_outfile:\n",
    "    with open('vessel-classification-all.json','rU') as bigfile:\n",
    "        lines = bigfile.readlines()\n",
    "        for line in lines:\n",
    "            line = line.replace(\"Seismic vessel\",\"Seismic_vessel\")\n",
    "            line = line.replace(\"Set gillnets\",\"Set_gillnets\")\n",
    "            line = line.replace(\"Set longlines\",\"Set_longlines\")\n",
    "            line = line.replace(\"Motor passenger\",\"Motor_passenger\")\n",
    "            line = line.replace(\"Pole and line\",\"Pole_and_line\")\n",
    "            line = line.replace(\"Purse seines\",\"Purse_seines\")\n",
    "            line = line.replace(\"Pots and traps\",\"Pots_and_traps\")\n",
    "            line = line.replace(\"Drifting longlines\",\"Drifting_longlines\")\n",
    "            line = line.replace(\"Non-fishing\",\"Non_fishing\")\n",
    "            line = line.replace(\"Cargo/Tanker\",\"Cargo_Tanker\")\n",
    "            line = line.replace(\"Seismic vessel\",\"Seismic_vessel\")\n",
    "            line = line.replace(\"Pole and line\",\"Pole_and_line\")\n",
    "            line = line.replace(\"Fixed gear\",\"Fixed_gear\")\n",
    "            line = line.replace(\"Purse seines\",\"Purse_seines\")\n",
    "            line = line.replace(\"Drifting longlines\",\"Drifting_longlines\")\n",
    "            line = line.replace(\"Tug/Pilot/Supply\",\"Tug_Pilot_Supply\")\n",
    "            big_outfile.write(line)"
   ]
  },
  {
   "cell_type": "code",
   "execution_count": 59,
   "metadata": {
    "collapsed": false
   },
   "outputs": [
    {
     "data": {
      "text/plain": [
       "32512"
      ]
     },
     "execution_count": 59,
     "metadata": {},
     "output_type": "execute_result"
    }
   ],
   "source": [
    "import os\n",
    "command = \"gsutil cp -z json vessel_classification_all_20161122_v2.json gs://david-scratch/vessel-classification-all_v2.json\"\n",
    "os.system(command)"
   ]
  },
  {
   "cell_type": "code",
   "execution_count": null,
   "metadata": {
    "collapsed": true
   },
   "outputs": [],
   "source": []
  }
 ],
 "metadata": {
  "kernelspec": {
   "display_name": "Python 2",
   "language": "python",
   "name": "python2"
  },
  "language_info": {
   "codemirror_mode": {
    "name": "ipython",
    "version": 2
   },
   "file_extension": ".py",
   "mimetype": "text/x-python",
   "name": "python",
   "nbconvert_exporter": "python",
   "pygments_lexer": "ipython2",
   "version": "2.7.3"
  }
 },
 "nbformat": 4,
 "nbformat_minor": 0
}
