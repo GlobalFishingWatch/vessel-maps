{
 "cells": [
  {
   "cell_type": "code",
   "execution_count": 1,
   "metadata": {
    "collapsed": true
   },
   "outputs": [],
   "source": [
    "# used to make a query on the data"
   ]
  },
  {
   "cell_type": "code",
   "execution_count": 10,
   "metadata": {
    "collapsed": true
   },
   "outputs": [],
   "source": [
    "labels = '''label_label_scores_Passenger\n",
    "label_label_scores_Tug_Pilot\n",
    "label_label_scores_Trawlers\n",
    "label_label_scores_Pole_and_line\n",
    "label_label_scores_Squid\n",
    "label_label_scores_Reefer\n",
    "label_label_scores_Cargo_Tanker\n",
    "label_label_scores_Seismic_vessel\n",
    "label_label_scores_Purse_seines\n",
    "label_label_scores_Fixed_gear\n",
    "label_label_scores_Drifting_longlines'''.split(\"\\n\")"
   ]
  },
  {
   "cell_type": "code",
   "execution_count": 11,
   "metadata": {
    "collapsed": false
   },
   "outputs": [
    {
     "name": "stdout",
     "output_type": "stream",
     "text": [
      "label_label_scores_Passenger,label_label_scores_Tug_Pilot,label_label_scores_Trawlers,label_label_scores_Pole_and_line,label_label_scores_Squid,label_label_scores_Reefer,label_label_scores_Cargo_Tanker,label_label_scores_Seismic_vessel,label_label_scores_Purse_seines,label_label_scores_Fixed_gear,label_label_scores_Drifting_longlines\n"
     ]
    }
   ],
   "source": [
    "'''  CASE\n",
    "    WHEN GREATEST(is_fishing_label_scores_Fishing, is_fishing_label_scores_Non_fishing) = is_fishing_label_scores_Fishing THEN 'Is_fishing'\n",
    "    WHEN GREATEST(is_fishing_label_scores_Fishing, is_fishing_label_scores_Non_fishing) = is_fishing_label_scores_Non_fishing THEN 'Non_fishing'\n",
    "  END AS max_label,'''"
   ]
  },
  {
   "cell_type": "code",
   "execution_count": 13,
   "metadata": {
    "collapsed": false
   },
   "outputs": [
    {
     "name": "stdout",
     "output_type": "stream",
     "text": [
      "CASE\n",
      "WHEN GREATEST(label_label_scores_Passenger,label_label_scores_Tug_Pilot,label_label_scores_Trawlers,label_label_scores_Pole_and_line,label_label_scores_Squid,label_label_scores_Reefer,label_label_scores_Cargo_Tanker,label_label_scores_Seismic_vessel,label_label_scores_Purse_seines,label_label_scores_Fixed_gear,label_label_scores_Drifting_longlines) = label_label_scores_Passenger THEN REGEXP_REPLACE('label_label_scores_Passenger','label_label_scores_','')\n",
      "    WHEN GREATEST(label_label_scores_Passenger,label_label_scores_Tug_Pilot,label_label_scores_Trawlers,label_label_scores_Pole_and_line,label_label_scores_Squid,label_label_scores_Reefer,label_label_scores_Cargo_Tanker,label_label_scores_Seismic_vessel,label_label_scores_Purse_seines,label_label_scores_Fixed_gear,label_label_scores_Drifting_longlines) = label_label_scores_Tug_Pilot THEN REGEXP_REPLACE('label_label_scores_Tug_Pilot','label_label_scores_','')\n",
      "    WHEN GREATEST(label_label_scores_Passenger,label_label_scores_Tug_Pilot,label_label_scores_Trawlers,label_label_scores_Pole_and_line,label_label_scores_Squid,label_label_scores_Reefer,label_label_scores_Cargo_Tanker,label_label_scores_Seismic_vessel,label_label_scores_Purse_seines,label_label_scores_Fixed_gear,label_label_scores_Drifting_longlines) = label_label_scores_Trawlers THEN REGEXP_REPLACE('label_label_scores_Trawlers','label_label_scores_','')\n",
      "    WHEN GREATEST(label_label_scores_Passenger,label_label_scores_Tug_Pilot,label_label_scores_Trawlers,label_label_scores_Pole_and_line,label_label_scores_Squid,label_label_scores_Reefer,label_label_scores_Cargo_Tanker,label_label_scores_Seismic_vessel,label_label_scores_Purse_seines,label_label_scores_Fixed_gear,label_label_scores_Drifting_longlines) = label_label_scores_Pole_and_line THEN REGEXP_REPLACE('label_label_scores_Pole_and_line','label_label_scores_','')\n",
      "    WHEN GREATEST(label_label_scores_Passenger,label_label_scores_Tug_Pilot,label_label_scores_Trawlers,label_label_scores_Pole_and_line,label_label_scores_Squid,label_label_scores_Reefer,label_label_scores_Cargo_Tanker,label_label_scores_Seismic_vessel,label_label_scores_Purse_seines,label_label_scores_Fixed_gear,label_label_scores_Drifting_longlines) = label_label_scores_Squid THEN REGEXP_REPLACE('label_label_scores_Squid','label_label_scores_','')\n",
      "    WHEN GREATEST(label_label_scores_Passenger,label_label_scores_Tug_Pilot,label_label_scores_Trawlers,label_label_scores_Pole_and_line,label_label_scores_Squid,label_label_scores_Reefer,label_label_scores_Cargo_Tanker,label_label_scores_Seismic_vessel,label_label_scores_Purse_seines,label_label_scores_Fixed_gear,label_label_scores_Drifting_longlines) = label_label_scores_Reefer THEN REGEXP_REPLACE('label_label_scores_Reefer','label_label_scores_','')\n",
      "    WHEN GREATEST(label_label_scores_Passenger,label_label_scores_Tug_Pilot,label_label_scores_Trawlers,label_label_scores_Pole_and_line,label_label_scores_Squid,label_label_scores_Reefer,label_label_scores_Cargo_Tanker,label_label_scores_Seismic_vessel,label_label_scores_Purse_seines,label_label_scores_Fixed_gear,label_label_scores_Drifting_longlines) = label_label_scores_Cargo_Tanker THEN REGEXP_REPLACE('label_label_scores_Cargo_Tanker','label_label_scores_','')\n",
      "    WHEN GREATEST(label_label_scores_Passenger,label_label_scores_Tug_Pilot,label_label_scores_Trawlers,label_label_scores_Pole_and_line,label_label_scores_Squid,label_label_scores_Reefer,label_label_scores_Cargo_Tanker,label_label_scores_Seismic_vessel,label_label_scores_Purse_seines,label_label_scores_Fixed_gear,label_label_scores_Drifting_longlines) = label_label_scores_Seismic_vessel THEN REGEXP_REPLACE('label_label_scores_Seismic_vessel','label_label_scores_','')\n",
      "    WHEN GREATEST(label_label_scores_Passenger,label_label_scores_Tug_Pilot,label_label_scores_Trawlers,label_label_scores_Pole_and_line,label_label_scores_Squid,label_label_scores_Reefer,label_label_scores_Cargo_Tanker,label_label_scores_Seismic_vessel,label_label_scores_Purse_seines,label_label_scores_Fixed_gear,label_label_scores_Drifting_longlines) = label_label_scores_Purse_seines THEN REGEXP_REPLACE('label_label_scores_Purse_seines','label_label_scores_','')\n",
      "    WHEN GREATEST(label_label_scores_Passenger,label_label_scores_Tug_Pilot,label_label_scores_Trawlers,label_label_scores_Pole_and_line,label_label_scores_Squid,label_label_scores_Reefer,label_label_scores_Cargo_Tanker,label_label_scores_Seismic_vessel,label_label_scores_Purse_seines,label_label_scores_Fixed_gear,label_label_scores_Drifting_longlines) = label_label_scores_Fixed_gear THEN REGEXP_REPLACE('label_label_scores_Fixed_gear','label_label_scores_','')\n",
      "    WHEN GREATEST(label_label_scores_Passenger,label_label_scores_Tug_Pilot,label_label_scores_Trawlers,label_label_scores_Pole_and_line,label_label_scores_Squid,label_label_scores_Reefer,label_label_scores_Cargo_Tanker,label_label_scores_Seismic_vessel,label_label_scores_Purse_seines,label_label_scores_Fixed_gear,label_label_scores_Drifting_longlines) = label_label_scores_Drifting_longlines THEN REGEXP_REPLACE('label_label_scores_Drifting_longlines','label_label_scores_','')\n",
      "    END as max_label,\n",
      "GREATEST(label_label_scores_Passenger,label_label_scores_Tug_Pilot,label_label_scores_Trawlers,label_label_scores_Pole_and_line,label_label_scores_Squid,label_label_scores_Reefer,label_label_scores_Cargo_Tanker,label_label_scores_Seismic_vessel,label_label_scores_Purse_seines,label_label_scores_Fixed_gear,label_label_scores_Drifting_longlines) as max_label_score,\n"
     ]
    }
   ],
   "source": [
    "all_labels = \",\".join(labels)\n",
    "q = '''CASE\n",
    "'''\n",
    "for l in labels:\n",
    "    q += '''WHEN GREATEST({0}) = {1} THEN REGEXP_REPLACE('{1}','label_label_scores_','')\n",
    "    '''.format(all_labels,l)\n",
    "    \n",
    "q += \"END as max_label,\\n\"\n",
    "q += '''GREATEST({0}) as max_label_score,'''.format(all_labels)\n",
    "print q\n"
   ]
  },
  {
   "cell_type": "code",
   "execution_count": null,
   "metadata": {
    "collapsed": true
   },
   "outputs": [],
   "source": []
  }
 ],
 "metadata": {
  "kernelspec": {
   "display_name": "Python 2",
   "language": "python",
   "name": "python2"
  },
  "language_info": {
   "codemirror_mode": {
    "name": "ipython",
    "version": 2
   },
   "file_extension": ".py",
   "mimetype": "text/x-python",
   "name": "python",
   "nbconvert_exporter": "python",
   "pygments_lexer": "ipython2",
   "version": "2.7.3"
  }
 },
 "nbformat": 4,
 "nbformat_minor": 0
}
