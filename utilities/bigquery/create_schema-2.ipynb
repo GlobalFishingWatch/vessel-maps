{
 "cells": [
  {
   "cell_type": "markdown",
   "metadata": {
    "collapsed": false
   },
   "source": [
    "Example Scheme:\n",
    "\n",
    "[{\n",
    "    \"name\": \"kind\",\n",
    "    \"mode\": \"nullable\",\n",
    "    \"type\": \"string\"\n",
    "  },\n",
    "  {\n",
    "    \"name\": \"fullName\",\n",
    "    \"type\": \"string\",\n",
    "    \"mode\": \"required\"\n",
    "  },\n",
    "  {\n",
    "    \"name\": \"age\",\n",
    "    \"type\": \"integer\",\n",
    "    \"mode\": \"nullable\"\n",
    "  },\n",
    "  {\n",
    "    \"name\": \"gender\",\n",
    "    \"type\": \"string\",\n",
    "    \"mode\": \"nullable\"\n",
    "  },\n",
    "  { \"name\": \"phoneNumber\",\n",
    "    \"type\": \"record\",\n",
    "    \"mode\": \"nullable\",\n",
    "    \"fields\": [\n",
    "    {\n",
    "       \"name\": \"areaCode\",\n",
    "       \"type\": \"integer\",\n",
    "       \"mode\": \"nullable\"\n",
    "    },\n",
    "    {\n",
    "       \"name\": \"number\",\n",
    "       \"type\": \"integer\",\n",
    "       \"mode\": \"nullable\"\n",
    "    }\n",
    "   ]\n",
    "  },\n",
    "  {\n",
    "    \"name\": \"children\",\n",
    "    \"type\": \"record\",\n",
    "    \"mode\": \"repeated\",\n",
    "    \"fields\": [\n",
    "    {\n",
    "       \"name\": \"name\",\n",
    "       \"type\": \"string\",\n",
    "       \"mode\": \"nullable\"\n",
    "    },\n",
    "    {\n",
    "       \"name\": \"gender\",\n",
    "       \"type\": \"string\",\n",
    "       \"mode\": \"nullable\"\n",
    "    },\n",
    "    {\n",
    "       \"name\": \"age\",\n",
    "       \"type\": \"integer\",\n",
    "       \"mode\": \"nullable\"\n",
    "    }\n",
    "   ]\n",
    "  },\n",
    "  {\n",
    "    \"name\": \"citiesLived\",\n",
    "    \"type\": \"record\",\n",
    "    \"mode\": \"repeated\",\n",
    "    \"fields\": [\n",
    "    {\n",
    "       \"name\": \"place\",\n",
    "       \"type\": \"string\",\n",
    "       \"mode\": \"nullable\"\n",
    "    },\n",
    "    {\n",
    "       \"name\": \"yearsLived\",\n",
    "       \"type\": \"integer\",\n",
    "       \"mode\": \"repeated\"\n",
    "    }\n",
    "   ]\n",
    "  }\n",
    "]\n",
    "\n"
   ]
  },
  {
   "cell_type": "code",
   "execution_count": 6,
   "metadata": {
    "collapsed": false
   },
   "outputs": [],
   "source": [
    "import json\n",
    "od = json.loads('''{\"sublabel\": {\"max_label\": \"Tug\", \"label_scores\": {\"Cargo\": 0.06757091730833054, \"Sailing\": 0.018900442868471146, \"Trawlers\": 0.07967807352542877, \"Seismic_vessel\": 0.02684229239821434, \"Set_gillnets\": 0.014477293007075787, \"Set_longlines\": 0.01454586535692215, \"Squid\": 0.015574329532682896, \"Reefer\": 0.2641301453113556, \"Pole_and_line\": 0.01445907261222601, \"Purse_seines\": 0.04525424912571907, \"Pots_and_traps\": 0.01445205882191658, \"Drifting_longlines\": 0.01447854470461607, \"Tanker\": 0.04711627960205078, \"Pilot\": 0.014536352828145027, \"Tug\": 0.34798410534858704}, \"max_label_probability\": 0.34798410534858704, \"name\": \"Vessel detailed class\"}, \"length\": {\"name\": \"Vessel length regression\", \"value\": 48.71369171142578}, \"start_time\": \"2013-06-24T00:00:00\", \"end_time\": \"2013-12-21T00:00:00\", \"mmsi\": 14, \"is_fishing\": {\"max_label\": \"Non_fishing\", \"label_scores\": {\"Fishing\": 0.1785549521446228, \"Non_fishing\": 0.8214449882507324}, \"max_label_probability\": 0.8214449882507324, \"name\": \"Fishing\"}, \"label\": {\"max_label\": \"Tug/Pilot\", \"label_scores\": {\"Passenger\": 0.06774556636810303, \"Cargo_Tanker\": 0.09529703855514526, \"Trawlers\": 0.07941653579473495, \"Seismic_vessel\": 0.023908106610178947, \"Pole_and_line\": 0.009239018894731998, \"Fixed_gear\": 0.009984415955841541, \"Squid\": 0.010400119237601757, \"Reefer\": 0.2778398096561432, \"Purse_seines\": 0.04067355766892433, \"Tug/Pilot\": 0.37623798847198486, \"Drifting_longlines\": 0.009257831610739231}, \"max_label_probability\": 0.37623798847198486, \"name\": \"Vessel class\"}}''')"
   ]
  },
  {
   "cell_type": "code",
   "execution_count": 7,
   "metadata": {
    "collapsed": false,
    "scrolled": true
   },
   "outputs": [
    {
     "name": "stdout",
     "output_type": "stream",
     "text": [
      "line = line.replace(\"Tug/Pilot\",\"Tug_Pilot\")\n"
     ]
    }
   ],
   "source": [
    "schema = []\n",
    "\n",
    "the_type = {'int':'integer','dict':'record','float':'float','unicode':'string'}\n",
    "the_mode = {'int':'nullable','dict':'repeated','float':'nullable','unicode':'nullable'}\n",
    "\n",
    "def get_fields(d):\n",
    "    sub_schema = []\n",
    "    for o in d:\n",
    "        v = get_field(o,d)\n",
    "        sub_schema.append(v)\n",
    "    return sub_schema\n",
    "\n",
    "\n",
    "def get_field(o, od):\n",
    "    v = {}\n",
    "    name = o.replace(\" \",\"_\").replace(\"-\",\"_\").replace(\"/\",\"_\")\n",
    "    if \" \" in o or \"-\" in o or '/' in o:\n",
    "        print 'line = line.replace(\"{}\",\"{}\")'.format(o,name)\n",
    "    the_class = od[o].__class__.__name__\n",
    "    tt = the_type[the_class]\n",
    "    tm = the_mode[the_class]    \n",
    "    v['name'] = name\n",
    "    v['type'] = tt\n",
    "    v['mode'] = tm\n",
    "    if the_class == 'dict':\n",
    "        v['fields'] = get_fields(od[o])\n",
    "    return v\n",
    "\n",
    "for o in od:\n",
    "    ve = get_field(o,od)    \n",
    "    schema.append(ve)\n",
    "            \n",
    "            \n",
    "#     if isinstance(od[o], dict):\n",
    "        \n"
   ]
  },
  {
   "cell_type": "code",
   "execution_count": 8,
   "metadata": {
    "collapsed": false
   },
   "outputs": [
    {
     "data": {
      "text/plain": [
       "[{'mode': 'nullable', 'name': u'start_time', 'type': 'string'},\n",
       " {'mode': 'nullable', 'name': u'mmsi', 'type': 'integer'},\n",
       " {'fields': [{'mode': 'nullable', 'name': u'max_label', 'type': 'string'},\n",
       "   {'fields': [{'mode': 'nullable', 'name': u'Passenger', 'type': 'float'},\n",
       "     {'mode': 'nullable', 'name': u'Tug_Pilot', 'type': 'float'},\n",
       "     {'mode': 'nullable', 'name': u'Trawlers', 'type': 'float'},\n",
       "     {'mode': 'nullable', 'name': u'Pole_and_line', 'type': 'float'},\n",
       "     {'mode': 'nullable', 'name': u'Squid', 'type': 'float'},\n",
       "     {'mode': 'nullable', 'name': u'Reefer', 'type': 'float'},\n",
       "     {'mode': 'nullable', 'name': u'Cargo_Tanker', 'type': 'float'},\n",
       "     {'mode': 'nullable', 'name': u'Seismic_vessel', 'type': 'float'},\n",
       "     {'mode': 'nullable', 'name': u'Purse_seines', 'type': 'float'},\n",
       "     {'mode': 'nullable', 'name': u'Fixed_gear', 'type': 'float'},\n",
       "     {'mode': 'nullable', 'name': u'Drifting_longlines', 'type': 'float'}],\n",
       "    'mode': 'repeated',\n",
       "    'name': u'label_scores',\n",
       "    'type': 'record'},\n",
       "   {'mode': 'nullable', 'name': u'max_label_probability', 'type': 'float'},\n",
       "   {'mode': 'nullable', 'name': u'name', 'type': 'string'}],\n",
       "  'mode': 'repeated',\n",
       "  'name': u'label',\n",
       "  'type': 'record'},\n",
       " {'fields': [{'mode': 'nullable', 'name': u'max_label', 'type': 'string'},\n",
       "   {'fields': [{'mode': 'nullable', 'name': u'Cargo', 'type': 'float'},\n",
       "     {'mode': 'nullable', 'name': u'Tanker', 'type': 'float'},\n",
       "     {'mode': 'nullable', 'name': u'Sailing', 'type': 'float'},\n",
       "     {'mode': 'nullable', 'name': u'Trawlers', 'type': 'float'},\n",
       "     {'mode': 'nullable', 'name': u'Set_gillnets', 'type': 'float'},\n",
       "     {'mode': 'nullable', 'name': u'Pole_and_line', 'type': 'float'},\n",
       "     {'mode': 'nullable', 'name': u'Squid', 'type': 'float'},\n",
       "     {'mode': 'nullable', 'name': u'Reefer', 'type': 'float'},\n",
       "     {'mode': 'nullable', 'name': u'Set_longlines', 'type': 'float'},\n",
       "     {'mode': 'nullable', 'name': u'Pots_and_traps', 'type': 'float'},\n",
       "     {'mode': 'nullable', 'name': u'Seismic_vessel', 'type': 'float'},\n",
       "     {'mode': 'nullable', 'name': u'Purse_seines', 'type': 'float'},\n",
       "     {'mode': 'nullable', 'name': u'Drifting_longlines', 'type': 'float'},\n",
       "     {'mode': 'nullable', 'name': u'Tug', 'type': 'float'},\n",
       "     {'mode': 'nullable', 'name': u'Pilot', 'type': 'float'}],\n",
       "    'mode': 'repeated',\n",
       "    'name': u'label_scores',\n",
       "    'type': 'record'},\n",
       "   {'mode': 'nullable', 'name': u'max_label_probability', 'type': 'float'},\n",
       "   {'mode': 'nullable', 'name': u'name', 'type': 'string'}],\n",
       "  'mode': 'repeated',\n",
       "  'name': u'sublabel',\n",
       "  'type': 'record'},\n",
       " {'fields': [{'mode': 'nullable', 'name': u'name', 'type': 'string'},\n",
       "   {'mode': 'nullable', 'name': u'value', 'type': 'float'}],\n",
       "  'mode': 'repeated',\n",
       "  'name': u'length',\n",
       "  'type': 'record'},\n",
       " {'mode': 'nullable', 'name': u'end_time', 'type': 'string'},\n",
       " {'fields': [{'mode': 'nullable', 'name': u'max_label', 'type': 'string'},\n",
       "   {'fields': [{'mode': 'nullable', 'name': u'Fishing', 'type': 'float'},\n",
       "     {'mode': 'nullable', 'name': u'Non_fishing', 'type': 'float'}],\n",
       "    'mode': 'repeated',\n",
       "    'name': u'label_scores',\n",
       "    'type': 'record'},\n",
       "   {'mode': 'nullable', 'name': u'max_label_probability', 'type': 'float'},\n",
       "   {'mode': 'nullable', 'name': u'name', 'type': 'string'}],\n",
       "  'mode': 'repeated',\n",
       "  'name': u'is_fishing',\n",
       "  'type': 'record'}]"
      ]
     },
     "execution_count": 8,
     "metadata": {},
     "output_type": "execute_result"
    }
   ],
   "source": [
    "schema"
   ]
  },
  {
   "cell_type": "code",
   "execution_count": 9,
   "metadata": {
    "collapsed": false
   },
   "outputs": [],
   "source": [
    "with open(\"data_schema_2.json\", 'w') as f:\n",
    "    f.write(json.dumps(schema))"
   ]
  },
  {
   "cell_type": "code",
   "execution_count": 10,
   "metadata": {
    "collapsed": false
   },
   "outputs": [
    {
     "data": {
      "text/plain": [
       "{u'end_time': u'2013-12-21T00:00:00',\n",
       " u'is_fishing': {u'label_scores': {u'Fishing': 0.1785549521446228,\n",
       "   u'Non_fishing': 0.8214449882507324},\n",
       "  u'max_label': u'Non_fishing',\n",
       "  u'max_label_probability': 0.8214449882507324,\n",
       "  u'name': u'Fishing'},\n",
       " u'label': {u'label_scores': {u'Cargo_Tanker': 0.09529703855514526,\n",
       "   u'Drifting_longlines': 0.009257831610739231,\n",
       "   u'Fixed_gear': 0.009984415955841541,\n",
       "   u'Passenger': 0.06774556636810303,\n",
       "   u'Pole_and_line': 0.009239018894731998,\n",
       "   u'Purse_seines': 0.04067355766892433,\n",
       "   u'Reefer': 0.2778398096561432,\n",
       "   u'Seismic_vessel': 0.023908106610178947,\n",
       "   u'Squid': 0.010400119237601757,\n",
       "   u'Trawlers': 0.07941653579473495,\n",
       "   u'Tug/Pilot': 0.37623798847198486},\n",
       "  u'max_label': u'Tug/Pilot',\n",
       "  u'max_label_probability': 0.37623798847198486,\n",
       "  u'name': u'Vessel class'},\n",
       " u'length': {u'name': u'Vessel length regression',\n",
       "  u'value': 48.71369171142578},\n",
       " u'mmsi': 14,\n",
       " u'start_time': u'2013-06-24T00:00:00',\n",
       " u'sublabel': {u'label_scores': {u'Cargo': 0.06757091730833054,\n",
       "   u'Drifting_longlines': 0.01447854470461607,\n",
       "   u'Pilot': 0.014536352828145027,\n",
       "   u'Pole_and_line': 0.01445907261222601,\n",
       "   u'Pots_and_traps': 0.01445205882191658,\n",
       "   u'Purse_seines': 0.04525424912571907,\n",
       "   u'Reefer': 0.2641301453113556,\n",
       "   u'Sailing': 0.018900442868471146,\n",
       "   u'Seismic_vessel': 0.02684229239821434,\n",
       "   u'Set_gillnets': 0.014477293007075787,\n",
       "   u'Set_longlines': 0.01454586535692215,\n",
       "   u'Squid': 0.015574329532682896,\n",
       "   u'Tanker': 0.04711627960205078,\n",
       "   u'Trawlers': 0.07967807352542877,\n",
       "   u'Tug': 0.34798410534858704},\n",
       "  u'max_label': u'Tug',\n",
       "  u'max_label_probability': 0.34798410534858704,\n",
       "  u'name': u'Vessel detailed class'}}"
      ]
     },
     "execution_count": 10,
     "metadata": {},
     "output_type": "execute_result"
    }
   ],
   "source": [
    "od"
   ]
  },
  {
   "cell_type": "code",
   "execution_count": 15,
   "metadata": {
    "collapsed": false
   },
   "outputs": [],
   "source": [
    "with open('vessel-classification-all_v2.json','w') as big_outfile:\n",
    "    with open('vessel-classification-all.json','rU') as bigfile:\n",
    "        lines = bigfile.readlines()\n",
    "        for line in lines:\n",
    "            line = line.replace(\"Seismic vessel\",\"Seismic_vessel\")\n",
    "            line = line.replace(\"Set gillnets\",\"Set_gillnets\")\n",
    "            line = line.replace(\"Set longlines\",\"Set_longlines\")\n",
    "            line = line.replace(\"Motor passenger\",\"Motor_passenger\")\n",
    "            line = line.replace(\"Pole and line\",\"Pole_and_line\")\n",
    "            line = line.replace(\"Purse seines\",\"Purse_seines\")\n",
    "            line = line.replace(\"Pots and traps\",\"Pots_and_traps\")\n",
    "            line = line.replace(\"Drifting longlines\",\"Drifting_longlines\")\n",
    "            line = line.replace(\"Non-fishing\",\"Non_fishing\")\n",
    "            line = line.replace(\"Cargo/Tanker\",\"Cargo_Tanker\")\n",
    "            line = line.replace(\"Seismic vessel\",\"Seismic_vessel\")\n",
    "            line = line.replace(\"Pole and line\",\"Pole_and_line\")\n",
    "            line = line.replace(\"Fixed gear\",\"Fixed_gear\")\n",
    "            line = line.replace(\"Purse seines\",\"Purse_seines\")\n",
    "            line = line.replace(\"Drifting longlines\",\"Drifting_longlines\")\n",
    "            line = line.replace(\"Tug/Pilot/Supply\",\"Tug_Pilot_Supply\")\n",
    "            line = line.replace(\"Tug/Pilot\",\"Tug_Pilot\")\n",
    "            big_outfile.write(line)"
   ]
  },
  {
   "cell_type": "code",
   "execution_count": 11,
   "metadata": {
    "collapsed": false
   },
   "outputs": [
    {
     "data": {
      "text/plain": [
       "0"
      ]
     },
     "execution_count": 11,
     "metadata": {},
     "output_type": "execute_result"
    }
   ],
   "source": [
    "import os\n",
    "command = \"gsutil cp -z json vessel-classification-all_v2.json gs://david-scratch/vessel-classification-all_v2.json\"\n",
    "os.system(command)"
   ]
  },
  {
   "cell_type": "code",
   "execution_count": 14,
   "metadata": {
    "collapsed": false
   },
   "outputs": [
    {
     "name": "stdout",
     "output_type": "stream",
     "text": [
      "bq load --source_format=NEWLINE_DELIMITED_JSON world-fishing-827:scratch_david_mmsi_lists.nn_labels_20161201 gs://david-scratch/vessel-classification-all_v2.json data_schema_2.json\n"
     ]
    }
   ],
   "source": [
    "# bq load <destination_table> <data_source_uri> <table_schema>\n",
    "command = \"bq load --source_format=NEWLINE_DELIMITED_JSON world-fishing-827:scratch_david_mmsi_lists.nn_labels_20161201 gs://david-scratch/vessel-classification-all_v2.json data_schema_2.json\"\n",
    "os.system(command)"
   ]
  },
  {
   "cell_type": "code",
   "execution_count": null,
   "metadata": {
    "collapsed": true
   },
   "outputs": [],
   "source": []
  }
 ],
 "metadata": {
  "kernelspec": {
   "display_name": "Python 2",
   "language": "python",
   "name": "python2"
  },
  "language_info": {
   "codemirror_mode": {
    "name": "ipython",
    "version": 2
   },
   "file_extension": ".py",
   "mimetype": "text/x-python",
   "name": "python",
   "nbconvert_exporter": "python",
   "pygments_lexer": "ipython2",
   "version": "2.7.3"
  }
 },
 "nbformat": 4,
 "nbformat_minor": 0
}
