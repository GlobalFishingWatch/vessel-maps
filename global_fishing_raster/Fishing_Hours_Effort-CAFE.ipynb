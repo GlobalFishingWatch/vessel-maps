{
 "cells": [
  {
   "cell_type": "code",
   "execution_count": 1,
   "metadata": {
    "collapsed": false
   },
   "outputs": [
    {
     "name": "stderr",
     "output_type": "stream",
     "text": [
      "/Users/David/Desktop/Jobs/GlobalFishingWatch/github/vessel-maps/utilities/pipa_paper/venv/lib/python2.7/site-packages/matplotlib/font_manager.py:273: UserWarning: Matplotlib is building the font cache using fc-list. This may take a moment.\n",
      "  warnings.warn('Matplotlib is building the font cache using fc-list. This may take a moment.')\n"
     ]
    }
   ],
   "source": [
    "import bq  \n",
    "import time\n",
    "import numpy as np\n",
    "import matplotlib.pyplot as plt\n",
    "from mpl_toolkits.basemap import Basemap\n",
    "from matplotlib import colors,colorbar\n",
    "import matplotlib\n",
    "%matplotlib inline\n",
    "import csv \n",
    "import math\n",
    "from math import radians, cos, sin, asin, sqrt\n",
    "from scipy import stats\n",
    "import matplotlib.dates as mdates\n",
    "import rasterio as rio\n",
    "import affine"
   ]
  },
  {
   "cell_type": "code",
   "execution_count": 2,
   "metadata": {
    "collapsed": true
   },
   "outputs": [],
   "source": [
    "client = bq.Client.Get()\n",
    "def Query(q):\n",
    "    t0 = time.time()\n",
    "    answer = client.ReadTableRows(client.Query(q)['configuration']['query']['destinationTable'])\n",
    "    print 'Query time: ' + str(time.time() - t0) + ' seconds.'\n",
    "    return answer\n"
   ]
  },
  {
   "cell_type": "code",
   "execution_count": 21,
   "metadata": {
    "collapsed": true
   },
   "outputs": [],
   "source": [
    "# adjust these to save the file for anywhere in the world\n",
    "\n",
    "min_lat_box = 10\n",
    "max_lat_box = 20\n",
    "min_lon_box = -130\n",
    "max_lon_box = -120 #135.26 135.20 131.20 131.26\n",
    "\n",
    "one_over_scale = 10\n",
    "scale = .1\n",
    "\n",
    "out_tif = \"CAFE\"\n",
    "path_to_file =\"../data/fishing_hours/\"\n"
   ]
  },
  {
   "cell_type": "code",
   "execution_count": 22,
   "metadata": {
    "collapsed": false
   },
   "outputs": [
    {
     "name": "stdout",
     "output_type": "stream",
     "text": [
      "Waiting on bqjob_r78b033d690de239f_000001545e822c7f_4 ... (34s) Current status: DONE   \n",
      "Query time: 36.5157020092 seconds.\n"
     ]
    }
   ],
   "source": [
    "\n",
    "q = '''SELECT\n",
    "  FLOOR(lat*'''+str(one_over_scale)+''') lat_bin,\n",
    "  FLOOR(lon*'''+str(one_over_scale)+''') lon_bin,\n",
    "  SUM((last_hours+next_hours)/2) fishing_time\n",
    "FROM\n",
    "  [scratch_global_fishing_raster.2015_with_score_and_hours]\n",
    "WHERE\n",
    "  lat IS NOT NULL\n",
    "  AND lon IS NOT NULL\n",
    "  AND lat >'''+str(min_lat_box)+'''\n",
    "  AND lon <'''+str(max_lon_box)+'''\n",
    "  AND lat < '''+str(max_lat_box)+'''\n",
    "  AND lon >'''+str(min_lon_box)+'''\n",
    "  AND mmsi IN (\n",
    "  SELECT\n",
    "    mmsi\n",
    "  FROM\n",
    "    [scratch_bjorn.2015_combined_fishing])\n",
    "  AND measure_new_score >= 0.5\n",
    "GROUP BY\n",
    "  lat_bin,\n",
    "  lon_bin'''\n",
    "\n",
    "fishing_points = Query(q)"
   ]
  },
  {
   "cell_type": "code",
   "execution_count": 23,
   "metadata": {
    "collapsed": false
   },
   "outputs": [],
   "source": [
    "lats = []\n",
    "lons = []\n",
    "ts = []\n",
    "for row in fishing_points:\n",
    "    lat = int(float(row[0]))\n",
    "    lon = int(float(row[1]))\n",
    "    t = float(row[2])\n",
    "    ts.append(t)\n",
    "    lats.append(lat)\n",
    "    lons.append(lon)"
   ]
  },
  {
   "cell_type": "code",
   "execution_count": 24,
   "metadata": {
    "collapsed": false
   },
   "outputs": [],
   "source": [
    "lats = np.array(lats)\n",
    "lons = np.array(lons)\n",
    "ts = np.array(ts)"
   ]
  },
  {
   "cell_type": "code",
   "execution_count": 25,
   "metadata": {
    "collapsed": false
   },
   "outputs": [],
   "source": [
    "min_lat_ras = lats.min()\n",
    "max_lat_ras = lats.max()\n",
    "min_lon_ras = lons.min()\n",
    "max_lon_ras = lons.max()\n",
    "\n",
    "min_lat = min_lat_ras*scale\n",
    "min_lon = min_lon_ras*scale\n",
    "max_lat = max_lat_ras*scale\n",
    "max_lon = max_lon_ras*scale\n",
    "\n",
    "num_lats = (max_lat_ras - min_lat_ras)+1\n",
    "num_lons = (max_lon_ras - min_lon_ras)+1\n",
    "\n",
    "grid = np.zeros((num_lats,num_lons))\n",
    "\n",
    "for lt,ln,hr in zip(lats,lons,ts):\n",
    "    lat_index = lt - min_lat_ras\n",
    "    lon_index = ln - min_lon_ras\n",
    "    grid[lat_index][lon_index]+=hr\n",
    "\n",
    "\n",
    "profile = {\n",
    "    'crs': 'EPSG:4326',\n",
    "    'nodata': -9999,\n",
    "    'dtype': rio.float32,\n",
    "    'height': num_lats,\n",
    "    'width': num_lons,\n",
    "    'count': 1,\n",
    "    'driver':\"GTiff\",\n",
    "    'transform': affine.Affine(scale, 0, min_lon, \n",
    "              0, -scale, max_lat)}\n",
    "\n",
    "with rio.open(path_to_file + out_tif + \".tif\", 'w', **profile) as dst:\n",
    "    dst.write(np.flipud(grid).astype(profile['dtype']), indexes=1)"
   ]
  },
  {
   "cell_type": "code",
   "execution_count": 26,
   "metadata": {
    "collapsed": false
   },
   "outputs": [
    {
     "data": {
      "image/png": "[encoded data removed]",
      "text/plain": [
       "<matplotlib.figure.Figure at 0x10b6107d0>"
      ]
     },
     "metadata": {},
     "output_type": "display_data"
    }
   ],
   "source": [
    "plt.rcParams[\"figure.figsize\"] = [8,9]\n",
    "\n",
    "firstlat = max_lat\n",
    "lastlat =  min_lat\n",
    "firstlon = min_lon\n",
    "lastlon = max_lon\n",
    "\n",
    "    \n",
    "lat_boxes = np.linspace(lastlat,firstlat,num=num_lats,endpoint=False)\n",
    "lon_boxes = np.linspace(firstlon,lastlon,num=num_lons,endpoint=False)\n",
    "\n",
    "fig = plt.figure()\n",
    "extra = 0 # degrees of buffer around image\n",
    "m = Basemap(llcrnrlat=lastlat-extra, urcrnrlat=firstlat+extra,\n",
    "          llcrnrlon=firstlon-extra, urcrnrlon=lastlon+extra, lat_ts=0, projection='mill',resolution=\"h\")\n",
    "\n",
    "m.drawmapboundary(fill_color='#111111')\n",
    "m.drawcoastlines(linewidth=.2)\n",
    "m.fillcontinents('#cccccc',lake_color='#cccccc')#, lake_color, ax, zorder, alpha)\n",
    "\n",
    "x = np.linspace(firstlon, lastlon, num_lons)\n",
    "y = np.linspace(lastlat, firstlat, num_lats)\n",
    "x, y = np.meshgrid(x, y)\n",
    "converted_x, converted_y = m(x, y)\n",
    "from matplotlib import colors,colorbar\n",
    "\n",
    "maximum = grid.max()\n",
    "minimum = 1\n",
    "\n",
    "norm = colors.LogNorm(vmin=minimum, vmax=maximum)\n",
    "# norm = colors.Normalize(vmin=0, vmax=1000)\n",
    "\n",
    "m.pcolormesh(converted_x, converted_y, grid, norm=norm, vmin=minimum, vmax=maximum, cmap = plt.get_cmap('viridis'))\n",
    "\n",
    "t = \"Fishing Hours\"\n",
    "plt.title(t, color = \"#000000\", fontsize=18)\n",
    "\n",
    "ax = fig.add_axes([0.2, 0.1, 0.65, 0.02]) #x coordinate , \n",
    "norm = colors.LogNorm(vmin=minimum, vmax=maximum)\n",
    "# norm = colors.Normalize(vmin=0, vmax=1000)\n",
    "lvls = np.logspace(np.log10(minimum),np.log10(maximum),num=8)\n",
    "cb = colorbar.ColorbarBase(ax,norm = norm, orientation='horizontal', ticks=lvls, cmap = plt.get_cmap('viridis'))\n",
    "\n",
    "#cb.ax.set_xticklabels([\"0\" ,round(m3**.5,1), m3, round(m3**1.5,1), m3*m3,round(m3**2.5,1), str(round(m3**3,1))+\"+\"], fontsize=10)\n",
    "cb.ax.set_xticklabels([int(i) for i in lvls], fontsize=10, color = \"#000000\")\n",
    "cb.set_label('Fishing Hours '+out_tif,labelpad=-40, y=0.45, color = \"#000000\")\n",
    "plt.savefig(path_to_file + out_tif +\".png\",bbox_inches='tight',dpi=300,transparent=True,pad_inches=.1)\n",
    "plt.show()\n"
   ]
  },
  {
   "cell_type": "code",
   "execution_count": 20,
   "metadata": {
    "collapsed": false
   },
   "outputs": [
    {
     "data": {
      "text/plain": [
       "-90"
      ]
     },
     "execution_count": 20,
     "metadata": {},
     "output_type": "execute_result"
    }
   ],
   "source": []
  },
  {
   "cell_type": "code",
   "execution_count": null,
   "metadata": {
    "collapsed": true
   },
   "outputs": [],
   "source": []
  }
 ],
 "metadata": {
  "kernelspec": {
   "display_name": "Python 2",
   "language": "python",
   "name": "python2"
  },
  "language_info": {
   "codemirror_mode": {
    "name": "ipython",
    "version": 2
   },
   "file_extension": ".py",
   "mimetype": "text/x-python",
   "name": "python",
   "nbconvert_exporter": "python",
   "pygments_lexer": "ipython2",
   "version": "2.7.3"
  }
 },
 "nbformat": 4,
 "nbformat_minor": 0
}
